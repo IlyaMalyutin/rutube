{
 "cells": [
  {
   "cell_type": "markdown",
   "metadata": {},
   "source": [
    "Основной файл - personal_events.csv - лог событий ответа на вопросы. Содержит 4 типа событий:\n",
    "\n",
    "* 'personal_start' - начало вопроса, \n",
    "* 'personal_choice' - выбор варианта ответа, \n",
    "* 'personal_wrong' - некая ошибка (редко случается), \n",
    "* 'personal_success' - ответ принят.\n",
    "* user_id - ID пользователя\n",
    "* creative_id - ID рекламного ролика, после просмотра которого показывается вопрос\n",
    "* interactive_id - ID вопроса\n",
    "* interactive_item_id - ID ответа\n",
    "\n",
    "Все tsv файлы - это вспомогательные словари.\n",
    "Как происходит процесс: \n",
    "1. пользователь заходит на Rutube LiST \n",
    "2. ему показывается рекламный креатив (ролик) \n",
    "3. После этого задается вопрос о содержимом ролика (их нет в выгрузке) \n",
    "4. Затем персональный вопрос. Иногда персональные вопросы связаны с содержимым ролика, иногда - нет. \n",
    "5. После этого открывается доступ на просмотр контента. По истечение некоторого времени, если пользователь хочет посмотреть что-то ещё, весь процесс повторяется. \n",
    "\n",
    "Соотвественно одному пользователю может показываться один и тот же рекламный креатив и даже задаваться те же самые вопросы (но таких случаев должно быть не много). \n",
    "Задача - найти пользователей, отвечающих нечестно / рандомно / незаинтересовано, т.е. тех, чьи ответы не имеют никакого значения для заказчика. \n",
    "\n",
    "Объяснить критерии выявления"
   ]
  },
  {
   "cell_type": "markdown",
   "metadata": {},
   "source": [
    "Ссылка на данные: https://yadi.sk/d/rzNiri49vxCOTA"
   ]
  },
  {
   "cell_type": "code",
   "execution_count": 73,
   "metadata": {},
   "outputs": [],
   "source": [
    "# Распаковал, посмотрел на файлы"
   ]
  },
  {
   "cell_type": "code",
   "execution_count": 17,
   "metadata": {},
   "outputs": [],
   "source": [
    "!unzip Вопросы\\ LiST.zip -d LiST"
   ]
  },
  {
   "cell_type": "code",
   "execution_count": 15,
   "metadata": {},
   "outputs": [
    {
     "name": "stdout",
     "output_type": "stream",
     "text": [
      "total 1.5G\n",
      "-rw-r--r-- 1 1000 1000 2.4K Jul 27 08:23 creative.tsv\n",
      "-rw-r--r-- 1 1000 1000  18K Jul 27 08:23 interactive.tsv\n",
      "-rw-r--r-- 1 1000 1000  36K Jul 27 08:23 interactive_item.tsv\n",
      "-rw-r--r-- 1 1000 1000 1.5G Jul 27 08:23 personal_events.csv\n",
      "-rw-r--r-- 1 1000 1000  185 Jul 27 08:23 thematic.tsv\n",
      "        12 LiST/./thematic.tsv\n",
      "       889 LiST/./interactive_item.tsv\n",
      "       194 LiST/./interactive.tsv\n",
      "  28767310 LiST/./personal_events.csv\n",
      "        64 LiST/./creative.tsv\n",
      "  28768469 total\n"
     ]
    }
   ],
   "source": [
    "!ls -lh LiST/\n",
    "!find LiST/. -type f -exec wc -l {} +"
   ]
  },
  {
   "cell_type": "code",
   "execution_count": 360,
   "metadata": {},
   "outputs": [],
   "source": [
    "import pandas as pd\n",
    "import numpy as np\n",
    "from matplotlib import pyplot as plt\n",
    "import seaborn as sns\n",
    "\n",
    "pd.set_option('max_colwidth', 1000)\n",
    "\n",
    "plt.style.use('seaborn')\n",
    "plt.rcParams['figure.figsize'] = 20, 15\n",
    "\n",
    "%matplotlib inline"
   ]
  },
  {
   "cell_type": "code",
   "execution_count": 7,
   "metadata": {},
   "outputs": [],
   "source": [
    "creative = pd.read_csv('LiST/creative.tsv', delimiter='\\t')\n",
    "interactive_item = pd.read_csv('LiST/interactive_item.tsv', delimiter='\\t')\n",
    "interactive = pd.read_csv('LiST/interactive.tsv', delimiter='\\t')\n",
    "thematic = pd.read_csv('LiST/thematic.tsv', delimiter='\\t')"
   ]
  },
  {
   "cell_type": "code",
   "execution_count": 62,
   "metadata": {},
   "outputs": [],
   "source": [
    "def describe(df):\n",
    "    print(df.shape)\n",
    "    display(df.head())"
   ]
  },
  {
   "cell_type": "code",
   "execution_count": 67,
   "metadata": {},
   "outputs": [
    {
     "name": "stdout",
     "output_type": "stream",
     "text": [
      "(63, 3)\n"
     ]
    },
    {
     "data": {
      "text/html": [
       "<div>\n",
       "<style scoped>\n",
       "    .dataframe tbody tr th:only-of-type {\n",
       "        vertical-align: middle;\n",
       "    }\n",
       "\n",
       "    .dataframe tbody tr th {\n",
       "        vertical-align: top;\n",
       "    }\n",
       "\n",
       "    .dataframe thead th {\n",
       "        text-align: right;\n",
       "    }\n",
       "</style>\n",
       "<table border=\"1\" class=\"dataframe\">\n",
       "  <thead>\n",
       "    <tr style=\"text-align: right;\">\n",
       "      <th></th>\n",
       "      <th>id</th>\n",
       "      <th>title</th>\n",
       "      <th>thematic_id</th>\n",
       "    </tr>\n",
       "  </thead>\n",
       "  <tbody>\n",
       "    <tr>\n",
       "      <th>0</th>\n",
       "      <td>1</td>\n",
       "      <td>Черный креатив</td>\n",
       "      <td>1</td>\n",
       "    </tr>\n",
       "    <tr>\n",
       "      <th>1</th>\n",
       "      <td>2</td>\n",
       "      <td>Белый креатив</td>\n",
       "      <td>1</td>\n",
       "    </tr>\n",
       "    <tr>\n",
       "      <th>2</th>\n",
       "      <td>3</td>\n",
       "      <td>Creative 3 ТНТ Music</td>\n",
       "      <td>2</td>\n",
       "    </tr>\n",
       "    <tr>\n",
       "      <th>3</th>\n",
       "      <td>4</td>\n",
       "      <td>Creative 4 Hockey</td>\n",
       "      <td>7</td>\n",
       "    </tr>\n",
       "    <tr>\n",
       "      <th>4</th>\n",
       "      <td>5</td>\n",
       "      <td>Creative 9 may</td>\n",
       "      <td>1</td>\n",
       "    </tr>\n",
       "  </tbody>\n",
       "</table>\n",
       "</div>"
      ],
      "text/plain": [
       "   id                 title  thematic_id\n",
       "0   1        Черный креатив            1\n",
       "1   2         Белый креатив            1\n",
       "2   3  Creative 3 ТНТ Music            2\n",
       "3   4     Creative 4 Hockey            7\n",
       "4   5        Creative 9 may            1"
      ]
     },
     "metadata": {},
     "output_type": "display_data"
    }
   ],
   "source": [
    "# рекламный ролик\n",
    "describe(creative)"
   ]
  },
  {
   "cell_type": "code",
   "execution_count": 71,
   "metadata": {},
   "outputs": [
    {
     "name": "stdout",
     "output_type": "stream",
     "text": [
      "(193, 2)\n"
     ]
    },
    {
     "data": {
      "text/html": [
       "<div>\n",
       "<style scoped>\n",
       "    .dataframe tbody tr th:only-of-type {\n",
       "        vertical-align: middle;\n",
       "    }\n",
       "\n",
       "    .dataframe tbody tr th {\n",
       "        vertical-align: top;\n",
       "    }\n",
       "\n",
       "    .dataframe thead th {\n",
       "        text-align: right;\n",
       "    }\n",
       "</style>\n",
       "<table border=\"1\" class=\"dataframe\">\n",
       "  <thead>\n",
       "    <tr style=\"text-align: right;\">\n",
       "      <th></th>\n",
       "      <th>id</th>\n",
       "      <th>title</th>\n",
       "    </tr>\n",
       "  </thead>\n",
       "  <tbody>\n",
       "    <tr>\n",
       "      <th>0</th>\n",
       "      <td>1</td>\n",
       "      <td>Укажите Ваш пол</td>\n",
       "    </tr>\n",
       "    <tr>\n",
       "      <th>1</th>\n",
       "      <td>2</td>\n",
       "      <td>Укажите Ваш возраст</td>\n",
       "    </tr>\n",
       "    <tr>\n",
       "      <th>2</th>\n",
       "      <td>3</td>\n",
       "      <td>Есть ли у вас автомобиль?</td>\n",
       "    </tr>\n",
       "    <tr>\n",
       "      <th>3</th>\n",
       "      <td>4</td>\n",
       "      <td>Как часто Вы занимаетесь спортом?</td>\n",
       "    </tr>\n",
       "    <tr>\n",
       "      <th>4</th>\n",
       "      <td>5</td>\n",
       "      <td>Какова ваша профессиональная деятельность?</td>\n",
       "    </tr>\n",
       "  </tbody>\n",
       "</table>\n",
       "</div>"
      ],
      "text/plain": [
       "   id                                       title\n",
       "0   1                             Укажите Ваш пол\n",
       "1   2                         Укажите Ваш возраст\n",
       "2   3                   Есть ли у вас автомобиль?\n",
       "3   4           Как часто Вы занимаетесь спортом?\n",
       "4   5  Какова ваша профессиональная деятельность?"
      ]
     },
     "metadata": {},
     "output_type": "display_data"
    }
   ],
   "source": [
    "# вопросы после рекламы\n",
    "describe(interactive)"
   ]
  },
  {
   "cell_type": "code",
   "execution_count": 69,
   "metadata": {},
   "outputs": [
    {
     "name": "stdout",
     "output_type": "stream",
     "text": [
      "(888, 3)\n"
     ]
    },
    {
     "data": {
      "text/html": [
       "<div>\n",
       "<style scoped>\n",
       "    .dataframe tbody tr th:only-of-type {\n",
       "        vertical-align: middle;\n",
       "    }\n",
       "\n",
       "    .dataframe tbody tr th {\n",
       "        vertical-align: top;\n",
       "    }\n",
       "\n",
       "    .dataframe thead th {\n",
       "        text-align: right;\n",
       "    }\n",
       "</style>\n",
       "<table border=\"1\" class=\"dataframe\">\n",
       "  <thead>\n",
       "    <tr style=\"text-align: right;\">\n",
       "      <th></th>\n",
       "      <th>id</th>\n",
       "      <th>title</th>\n",
       "      <th>interactive_id</th>\n",
       "    </tr>\n",
       "  </thead>\n",
       "  <tbody>\n",
       "    <tr>\n",
       "      <th>0</th>\n",
       "      <td>1</td>\n",
       "      <td>Мужской</td>\n",
       "      <td>1</td>\n",
       "    </tr>\n",
       "    <tr>\n",
       "      <th>1</th>\n",
       "      <td>2</td>\n",
       "      <td>Женский</td>\n",
       "      <td>1</td>\n",
       "    </tr>\n",
       "    <tr>\n",
       "      <th>2</th>\n",
       "      <td>3</td>\n",
       "      <td>до 18</td>\n",
       "      <td>2</td>\n",
       "    </tr>\n",
       "    <tr>\n",
       "      <th>3</th>\n",
       "      <td>4</td>\n",
       "      <td>18-25</td>\n",
       "      <td>2</td>\n",
       "    </tr>\n",
       "    <tr>\n",
       "      <th>4</th>\n",
       "      <td>5</td>\n",
       "      <td>26-35</td>\n",
       "      <td>2</td>\n",
       "    </tr>\n",
       "  </tbody>\n",
       "</table>\n",
       "</div>"
      ],
      "text/plain": [
       "   id    title  interactive_id\n",
       "0   1  Мужской               1\n",
       "1   2  Женский               1\n",
       "2   3    до 18               2\n",
       "3   4    18-25               2\n",
       "4   5    26-35               2"
      ]
     },
     "metadata": {},
     "output_type": "display_data"
    }
   ],
   "source": [
    "# ответы на вопросы после рекламы\n",
    "describe(interactive_item)"
   ]
  },
  {
   "cell_type": "code",
   "execution_count": 75,
   "metadata": {},
   "outputs": [
    {
     "name": "stdout",
     "output_type": "stream",
     "text": [
      "(11, 2)\n"
     ]
    },
    {
     "data": {
      "text/html": [
       "<div>\n",
       "<style scoped>\n",
       "    .dataframe tbody tr th:only-of-type {\n",
       "        vertical-align: middle;\n",
       "    }\n",
       "\n",
       "    .dataframe tbody tr th {\n",
       "        vertical-align: top;\n",
       "    }\n",
       "\n",
       "    .dataframe thead th {\n",
       "        text-align: right;\n",
       "    }\n",
       "</style>\n",
       "<table border=\"1\" class=\"dataframe\">\n",
       "  <thead>\n",
       "    <tr style=\"text-align: right;\">\n",
       "      <th></th>\n",
       "      <th>id</th>\n",
       "      <th>title</th>\n",
       "    </tr>\n",
       "  </thead>\n",
       "  <tbody>\n",
       "    <tr>\n",
       "      <th>0</th>\n",
       "      <td>1</td>\n",
       "      <td>LiST</td>\n",
       "    </tr>\n",
       "    <tr>\n",
       "      <th>1</th>\n",
       "      <td>2</td>\n",
       "      <td>TNT Music</td>\n",
       "    </tr>\n",
       "    <tr>\n",
       "      <th>2</th>\n",
       "      <td>3</td>\n",
       "      <td>Дом-2</td>\n",
       "    </tr>\n",
       "    <tr>\n",
       "      <th>3</th>\n",
       "      <td>4</td>\n",
       "      <td>Ёлка</td>\n",
       "    </tr>\n",
       "    <tr>\n",
       "      <th>4</th>\n",
       "      <td>5</td>\n",
       "      <td>ГПМРТВ (анонсы)</td>\n",
       "    </tr>\n",
       "  </tbody>\n",
       "</table>\n",
       "</div>"
      ],
      "text/plain": [
       "   id            title\n",
       "0   1             LiST\n",
       "1   2        TNT Music\n",
       "2   3            Дом-2\n",
       "3   4             Ёлка\n",
       "4   5  ГПМРТВ (анонсы)"
      ]
     },
     "metadata": {},
     "output_type": "display_data"
    }
   ],
   "source": [
    "# тематики рекламных креативов\n",
    "describe(thematic)"
   ]
  },
  {
   "cell_type": "code",
   "execution_count": 213,
   "metadata": {},
   "outputs": [],
   "source": [
    "personal_events = pd.read_csv('LiST/personal_events.csv')"
   ]
  },
  {
   "cell_type": "code",
   "execution_count": 76,
   "metadata": {},
   "outputs": [
    {
     "name": "stdout",
     "output_type": "stream",
     "text": [
      "(28767309, 6)\n"
     ]
    },
    {
     "data": {
      "text/html": [
       "<div>\n",
       "<style scoped>\n",
       "    .dataframe tbody tr th:only-of-type {\n",
       "        vertical-align: middle;\n",
       "    }\n",
       "\n",
       "    .dataframe tbody tr th {\n",
       "        vertical-align: top;\n",
       "    }\n",
       "\n",
       "    .dataframe thead th {\n",
       "        text-align: right;\n",
       "    }\n",
       "</style>\n",
       "<table border=\"1\" class=\"dataframe\">\n",
       "  <thead>\n",
       "    <tr style=\"text-align: right;\">\n",
       "      <th></th>\n",
       "      <th>created</th>\n",
       "      <th>event_type</th>\n",
       "      <th>user_id</th>\n",
       "      <th>creative_id</th>\n",
       "      <th>interactive_id</th>\n",
       "      <th>interactive_item_id</th>\n",
       "    </tr>\n",
       "  </thead>\n",
       "  <tbody>\n",
       "    <tr>\n",
       "      <th>0</th>\n",
       "      <td>2019-06-16 21:00:52</td>\n",
       "      <td>personal_start</td>\n",
       "      <td>6050757</td>\n",
       "      <td>16</td>\n",
       "      <td>109</td>\n",
       "      <td>0</td>\n",
       "    </tr>\n",
       "    <tr>\n",
       "      <th>1</th>\n",
       "      <td>2019-06-16 21:00:53</td>\n",
       "      <td>personal_choice</td>\n",
       "      <td>6050757</td>\n",
       "      <td>16</td>\n",
       "      <td>109</td>\n",
       "      <td>464</td>\n",
       "    </tr>\n",
       "    <tr>\n",
       "      <th>2</th>\n",
       "      <td>2019-06-16 21:00:53</td>\n",
       "      <td>personal_success</td>\n",
       "      <td>6050757</td>\n",
       "      <td>16</td>\n",
       "      <td>109</td>\n",
       "      <td>0</td>\n",
       "    </tr>\n",
       "    <tr>\n",
       "      <th>3</th>\n",
       "      <td>2019-06-16 21:01:57</td>\n",
       "      <td>personal_start</td>\n",
       "      <td>5816185</td>\n",
       "      <td>30</td>\n",
       "      <td>126</td>\n",
       "      <td>0</td>\n",
       "    </tr>\n",
       "    <tr>\n",
       "      <th>4</th>\n",
       "      <td>2019-06-16 21:02:09</td>\n",
       "      <td>personal_success</td>\n",
       "      <td>5816185</td>\n",
       "      <td>30</td>\n",
       "      <td>126</td>\n",
       "      <td>0</td>\n",
       "    </tr>\n",
       "  </tbody>\n",
       "</table>\n",
       "</div>"
      ],
      "text/plain": [
       "               created        event_type  user_id  creative_id  \\\n",
       "0  2019-06-16 21:00:52    personal_start  6050757           16   \n",
       "1  2019-06-16 21:00:53   personal_choice  6050757           16   \n",
       "2  2019-06-16 21:00:53  personal_success  6050757           16   \n",
       "3  2019-06-16 21:01:57    personal_start  5816185           30   \n",
       "4  2019-06-16 21:02:09  personal_success  5816185           30   \n",
       "\n",
       "   interactive_id  interactive_item_id  \n",
       "0             109                    0  \n",
       "1             109                  464  \n",
       "2             109                    0  \n",
       "3             126                    0  \n",
       "4             126                    0  "
      ]
     },
     "metadata": {},
     "output_type": "display_data"
    }
   ],
   "source": [
    "describe(personal_events)"
   ]
  },
  {
   "cell_type": "code",
   "execution_count": 19,
   "metadata": {},
   "outputs": [
    {
     "data": {
      "text/plain": [
       "personal_start      9609210\n",
       "personal_choice     9605791\n",
       "personal_success    9552308\n",
       "Name: event_type, dtype: int64"
      ]
     },
     "execution_count": 19,
     "metadata": {},
     "output_type": "execute_result"
    }
   ],
   "source": [
    "personal_events.event_type.value_counts()"
   ]
  },
  {
   "cell_type": "markdown",
   "metadata": {},
   "source": [
    "# сколько ответов приходится на одного человека?"
   ]
  },
  {
   "cell_type": "code",
   "execution_count": 140,
   "metadata": {},
   "outputs": [],
   "source": [
    "answers_count = personal_events[personal_events.event_type == 'personal_choice'].user_id.value_counts()"
   ]
  },
  {
   "cell_type": "code",
   "execution_count": 141,
   "metadata": {},
   "outputs": [
    {
     "data": {
      "text/plain": [
       "<matplotlib.axes._subplots.AxesSubplot at 0x7fed3b4e3dd8>"
      ]
     },
     "execution_count": 141,
     "metadata": {},
     "output_type": "execute_result"
    },
    {
     "data": {
      "image/png": "[encoded data removed]",
      "text/plain": [
       "<Figure size 432x288 with 1 Axes>"
      ]
     },
     "metadata": {
      "needs_background": "light"
     },
     "output_type": "display_data"
    }
   ],
   "source": [
    "answers_count.hist(bins=30)"
   ]
  },
  {
   "cell_type": "code",
   "execution_count": 142,
   "metadata": {},
   "outputs": [
    {
     "data": {
      "text/plain": [
       "<matplotlib.axes._subplots.AxesSubplot at 0x7fed3b5eee10>"
      ]
     },
     "execution_count": 142,
     "metadata": {},
     "output_type": "execute_result"
    },
    {
     "data": {
      "image/png": "[encoded data removed]",
      "text/plain": [
       "<Figure size 432x288 with 1 Axes>"
      ]
     },
     "metadata": {
      "needs_background": "light"
     },
     "output_type": "display_data"
    }
   ],
   "source": [
    "answers_count[answers_count < 200].hist(bins=30)"
   ]
  },
  {
   "cell_type": "code",
   "execution_count": 143,
   "metadata": {},
   "outputs": [
    {
     "data": {
      "text/plain": [
       "<matplotlib.axes._subplots.AxesSubplot at 0x7fed3b6a49b0>"
      ]
     },
     "execution_count": 143,
     "metadata": {},
     "output_type": "execute_result"
    },
    {
     "data": {
      "image/png": "[encoded data removed]",
      "text/plain": [
       "<Figure size 432x288 with 1 Axes>"
      ]
     },
     "metadata": {
      "needs_background": "light"
     },
     "output_type": "display_data"
    }
   ],
   "source": [
    "answers_count[answers_count < 10].hist(bins=9)"
   ]
  },
  {
   "cell_type": "markdown",
   "metadata": {},
   "source": [
    "тут все выглядит ок"
   ]
  },
  {
   "cell_type": "markdown",
   "metadata": {},
   "source": [
    "# Cколько ответов от одного человека по одному вопросу?"
   ]
  },
  {
   "cell_type": "code",
   "execution_count": 116,
   "metadata": {},
   "outputs": [],
   "source": [
    "user_answers = personal_events[personal_events.event_type == 'personal_choice'][\n",
    "    ['user_id', 'interactive_id', 'interactive_item_id', 'created']\n",
    "].groupby(\n",
    "    ['user_id', 'interactive_id'], as_index=False\n",
    ").agg({'interactive_item_id': 'nunique', 'created': 'count'}).rename(columns={\n",
    "    'created': 'answers_count',\n",
    "    'interactive_item_id': 'diff_answers_count'\n",
    "})"
   ]
  },
  {
   "cell_type": "code",
   "execution_count": 313,
   "metadata": {},
   "outputs": [
    {
     "data": {
      "text/html": [
       "<div>\n",
       "<style scoped>\n",
       "    .dataframe tbody tr th:only-of-type {\n",
       "        vertical-align: middle;\n",
       "    }\n",
       "\n",
       "    .dataframe tbody tr th {\n",
       "        vertical-align: top;\n",
       "    }\n",
       "\n",
       "    .dataframe thead th {\n",
       "        text-align: right;\n",
       "    }\n",
       "</style>\n",
       "<table border=\"1\" class=\"dataframe\">\n",
       "  <thead>\n",
       "    <tr style=\"text-align: right;\">\n",
       "      <th></th>\n",
       "      <th>user_id</th>\n",
       "      <th>interactive_id</th>\n",
       "      <th>diff_answers_count</th>\n",
       "      <th>answers_count</th>\n",
       "    </tr>\n",
       "  </thead>\n",
       "  <tbody>\n",
       "    <tr>\n",
       "      <th>0</th>\n",
       "      <td>115</td>\n",
       "      <td>1</td>\n",
       "      <td>1</td>\n",
       "      <td>7</td>\n",
       "    </tr>\n",
       "    <tr>\n",
       "      <th>1</th>\n",
       "      <td>12110</td>\n",
       "      <td>7</td>\n",
       "      <td>2</td>\n",
       "      <td>4</td>\n",
       "    </tr>\n",
       "    <tr>\n",
       "      <th>2</th>\n",
       "      <td>12110</td>\n",
       "      <td>8</td>\n",
       "      <td>1</td>\n",
       "      <td>1</td>\n",
       "    </tr>\n",
       "  </tbody>\n",
       "</table>\n",
       "</div>"
      ],
      "text/plain": [
       "   user_id  interactive_id  diff_answers_count  answers_count\n",
       "0      115               1                   1              7\n",
       "1    12110               7                   2              4\n",
       "2    12110               8                   1              1"
      ]
     },
     "execution_count": 313,
     "metadata": {},
     "output_type": "execute_result"
    }
   ],
   "source": [
    "user_answers[:3]"
   ]
  },
  {
   "cell_type": "code",
   "execution_count": 118,
   "metadata": {},
   "outputs": [
    {
     "data": {
      "text/plain": [
       "(718853, 4)"
      ]
     },
     "execution_count": 118,
     "metadata": {},
     "output_type": "execute_result"
    }
   ],
   "source": [
    "user_answers[user_answers.diff_answers_count != 1].shape"
   ]
  },
  {
   "cell_type": "markdown",
   "metadata": {},
   "source": [
    "### 718853 ответов потенциально рандомны\n",
    "### Возможно не все они жулики, может быть со временем у человека меняется отношение к вопросу. Посмотрим на какие вопросы люди чаще меняют ответ?"
   ]
  },
  {
   "cell_type": "code",
   "execution_count": 148,
   "metadata": {},
   "outputs": [],
   "source": [
    "problem_interactives = user_answers[user_answers.diff_answers_count != 1].\\\n",
    "                        groupby('interactive_id', as_index=False).count().\\\n",
    "                        sort_values(by='answers_count', ascending=False)[['interactive_id', 'answers_count']]"
   ]
  },
  {
   "cell_type": "code",
   "execution_count": 155,
   "metadata": {},
   "outputs": [],
   "source": [
    "problem_interactives = problem_interactives.merge(interactive, left_on='interactive_id', right_on='id')"
   ]
  },
  {
   "cell_type": "code",
   "execution_count": 156,
   "metadata": {},
   "outputs": [
    {
     "data": {
      "text/html": [
       "<div>\n",
       "<style scoped>\n",
       "    .dataframe tbody tr th:only-of-type {\n",
       "        vertical-align: middle;\n",
       "    }\n",
       "\n",
       "    .dataframe tbody tr th {\n",
       "        vertical-align: top;\n",
       "    }\n",
       "\n",
       "    .dataframe thead th {\n",
       "        text-align: right;\n",
       "    }\n",
       "</style>\n",
       "<table border=\"1\" class=\"dataframe\">\n",
       "  <thead>\n",
       "    <tr style=\"text-align: right;\">\n",
       "      <th></th>\n",
       "      <th>interactive_id</th>\n",
       "      <th>answers_count</th>\n",
       "      <th>id</th>\n",
       "      <th>title</th>\n",
       "    </tr>\n",
       "  </thead>\n",
       "  <tbody>\n",
       "    <tr>\n",
       "      <th>0</th>\n",
       "      <td>164</td>\n",
       "      <td>90451</td>\n",
       "      <td>164</td>\n",
       "      <td>Смотрите ли Вы Дом-2. Город любви в 23:00 на канале ТНТ?</td>\n",
       "    </tr>\n",
       "    <tr>\n",
       "      <th>1</th>\n",
       "      <td>144</td>\n",
       "      <td>63668</td>\n",
       "      <td>144</td>\n",
       "      <td>Когда вы смотрите развлекательные шоу?</td>\n",
       "    </tr>\n",
       "    <tr>\n",
       "      <th>2</th>\n",
       "      <td>233</td>\n",
       "      <td>56827</td>\n",
       "      <td>233</td>\n",
       "      <td>Если бы завтра Вы пошли в кино, то какой фильм Вы бы предпочли посмотреть?</td>\n",
       "    </tr>\n",
       "    <tr>\n",
       "      <th>3</th>\n",
       "      <td>142</td>\n",
       "      <td>50851</td>\n",
       "      <td>142</td>\n",
       "      <td>Как Вы предпочитаете отдыхать в свободное время?</td>\n",
       "    </tr>\n",
       "    <tr>\n",
       "      <th>4</th>\n",
       "      <td>7</td>\n",
       "      <td>47603</td>\n",
       "      <td>7</td>\n",
       "      <td>Как часто Вы посещаете кинотеатры?</td>\n",
       "    </tr>\n",
       "    <tr>\n",
       "      <th>5</th>\n",
       "      <td>146</td>\n",
       "      <td>46499</td>\n",
       "      <td>146</td>\n",
       "      <td>На что Вы опираетесь при выборе дизайна своего дома?</td>\n",
       "    </tr>\n",
       "    <tr>\n",
       "      <th>6</th>\n",
       "      <td>201</td>\n",
       "      <td>42066</td>\n",
       "      <td>201</td>\n",
       "      <td>Где Вам удобнее смотреть Дом-2?</td>\n",
       "    </tr>\n",
       "    <tr>\n",
       "      <th>7</th>\n",
       "      <td>191</td>\n",
       "      <td>39818</td>\n",
       "      <td>191</td>\n",
       "      <td>К какому типу относится жилье, в котором Вы проживаете?</td>\n",
       "    </tr>\n",
       "    <tr>\n",
       "      <th>8</th>\n",
       "      <td>28</td>\n",
       "      <td>39473</td>\n",
       "      <td>28</td>\n",
       "      <td>Смотрите ли Вы телешоу Дом-2?</td>\n",
       "    </tr>\n",
       "    <tr>\n",
       "      <th>9</th>\n",
       "      <td>159</td>\n",
       "      <td>28495</td>\n",
       "      <td>159</td>\n",
       "      <td>Как часто Вы ходите на вечеринки?</td>\n",
       "    </tr>\n",
       "    <tr>\n",
       "      <th>10</th>\n",
       "      <td>184</td>\n",
       "      <td>27664</td>\n",
       "      <td>184</td>\n",
       "      <td>В какое время вы обычно смотрите телевизор?</td>\n",
       "    </tr>\n",
       "    <tr>\n",
       "      <th>11</th>\n",
       "      <td>113</td>\n",
       "      <td>24378</td>\n",
       "      <td>113</td>\n",
       "      <td>Хотите ли Вы получить персональный промо-код для покупки купальников BEACH CONTROL со скидкой 10%?</td>\n",
       "    </tr>\n",
       "    <tr>\n",
       "      <th>12</th>\n",
       "      <td>126</td>\n",
       "      <td>17210</td>\n",
       "      <td>126</td>\n",
       "      <td>В выходные Вы смотрите…</td>\n",
       "    </tr>\n",
       "    <tr>\n",
       "      <th>13</th>\n",
       "      <td>160</td>\n",
       "      <td>16679</td>\n",
       "      <td>160</td>\n",
       "      <td>Как Вы любите отдыхать?</td>\n",
       "    </tr>\n",
       "    <tr>\n",
       "      <th>14</th>\n",
       "      <td>135</td>\n",
       "      <td>15229</td>\n",
       "      <td>135</td>\n",
       "      <td>Как часто Вы отдыхаете за рубежом?</td>\n",
       "    </tr>\n",
       "  </tbody>\n",
       "</table>\n",
       "</div>"
      ],
      "text/plain": [
       "    interactive_id  answers_count   id  \\\n",
       "0              164          90451  164   \n",
       "1              144          63668  144   \n",
       "2              233          56827  233   \n",
       "3              142          50851  142   \n",
       "4                7          47603    7   \n",
       "5              146          46499  146   \n",
       "6              201          42066  201   \n",
       "7              191          39818  191   \n",
       "8               28          39473   28   \n",
       "9              159          28495  159   \n",
       "10             184          27664  184   \n",
       "11             113          24378  113   \n",
       "12             126          17210  126   \n",
       "13             160          16679  160   \n",
       "14             135          15229  135   \n",
       "\n",
       "                                                                                                 title  \n",
       "0                                             Смотрите ли Вы Дом-2. Город любви в 23:00 на канале ТНТ?  \n",
       "1                                                               Когда вы смотрите развлекательные шоу?  \n",
       "2                           Если бы завтра Вы пошли в кино, то какой фильм Вы бы предпочли посмотреть?  \n",
       "3                                                     Как Вы предпочитаете отдыхать в свободное время?  \n",
       "4                                                                   Как часто Вы посещаете кинотеатры?  \n",
       "5                                                 На что Вы опираетесь при выборе дизайна своего дома?  \n",
       "6                                                                      Где Вам удобнее смотреть Дом-2?  \n",
       "7                                              К какому типу относится жилье, в котором Вы проживаете?  \n",
       "8                                                                        Смотрите ли Вы телешоу Дом-2?  \n",
       "9                                                                    Как часто Вы ходите на вечеринки?  \n",
       "10                                                         В какое время вы обычно смотрите телевизор?  \n",
       "11  Хотите ли Вы получить персональный промо-код для покупки купальников BEACH CONTROL со скидкой 10%?  \n",
       "12                                                                             В выходные Вы смотрите…  \n",
       "13                                                                             Как Вы любите отдыхать?  \n",
       "14                                                                  Как часто Вы отдыхаете за рубежом?  "
      ]
     },
     "execution_count": 156,
     "metadata": {},
     "output_type": "execute_result"
    }
   ],
   "source": [
    "problem_interactives[:15]"
   ]
  },
  {
   "cell_type": "markdown",
   "metadata": {},
   "source": [
    "# Интересно будет посмотреть, как распределено время между такими ответами. Но наверное в другой раз)"
   ]
  },
  {
   "cell_type": "markdown",
   "metadata": {},
   "source": [
    "# Сейчас сгруппируем timeserias и представим связанные события [personal_start, personal_choice, personal_success] вместе"
   ]
  },
  {
   "cell_type": "code",
   "execution_count": 168,
   "metadata": {},
   "outputs": [],
   "source": [
    "# хотя кажется что события personal_success нам пока ненужны"
   ]
  },
  {
   "cell_type": "code",
   "execution_count": 166,
   "metadata": {},
   "outputs": [
    {
     "data": {
      "text/plain": [
       "303934"
      ]
     },
     "execution_count": 166,
     "metadata": {},
     "output_type": "execute_result"
    }
   ],
   "source": [
    "personal_events.user_id.nunique()"
   ]
  },
  {
   "cell_type": "code",
   "execution_count": 214,
   "metadata": {},
   "outputs": [],
   "source": [
    "personal_events = personal_events[personal_events.event_type.isin(['personal_start', 'personal_choice'])].copy().reset_index(drop=True)"
   ]
  },
  {
   "cell_type": "code",
   "execution_count": 215,
   "metadata": {},
   "outputs": [],
   "source": [
    "# для удобной сортировки\n",
    "personal_events['_event_type'] = personal_events.event_type.map({'personal_start': 0, 'personal_choice': 1})"
   ]
  },
  {
   "cell_type": "code",
   "execution_count": 217,
   "metadata": {},
   "outputs": [],
   "source": [
    "personal_events = personal_events.sort_values(by=['user_id', 'created', '_event_type', ]).reset_index(drop=True)"
   ]
  },
  {
   "cell_type": "code",
   "execution_count": 267,
   "metadata": {},
   "outputs": [],
   "source": [
    "def shift_start(df):\n",
    "    # сдвинем время personal_start в строку с personal_choice\n",
    "    df['start_time'] = df.created.shift(1)\n",
    "    df['start_user_id'] = df.user_id.shift(1)\n",
    "    df['start_creative_id'] = df.creative_id.shift(1)\n",
    "    df['start_interactive_id'] = df.interactive_id.shift(1)\n",
    "    \n",
    "    df.rename(columns={'created': 'choise_time'}, inplace=True)\n",
    "\n",
    "    # оставим только строки с personal_choice\n",
    "    df = df[df.event_type.isin(['personal_choice'])].copy()\n",
    "    return df"
   ]
  },
  {
   "cell_type": "code",
   "execution_count": 220,
   "metadata": {},
   "outputs": [],
   "source": [
    "personal_events = shift_start(personal_events)"
   ]
  },
  {
   "cell_type": "code",
   "execution_count": 198,
   "metadata": {},
   "outputs": [
    {
     "data": {
      "text/html": [
       "<div>\n",
       "<style scoped>\n",
       "    .dataframe tbody tr th:only-of-type {\n",
       "        vertical-align: middle;\n",
       "    }\n",
       "\n",
       "    .dataframe tbody tr th {\n",
       "        vertical-align: top;\n",
       "    }\n",
       "\n",
       "    .dataframe thead th {\n",
       "        text-align: right;\n",
       "    }\n",
       "</style>\n",
       "<table border=\"1\" class=\"dataframe\">\n",
       "  <thead>\n",
       "    <tr style=\"text-align: right;\">\n",
       "      <th></th>\n",
       "      <th>choise_time</th>\n",
       "      <th>event_type</th>\n",
       "      <th>user_id</th>\n",
       "      <th>creative_id</th>\n",
       "      <th>interactive_id</th>\n",
       "      <th>interactive_item_id</th>\n",
       "      <th>_event_type</th>\n",
       "      <th>start_time</th>\n",
       "      <th>start_user_id</th>\n",
       "      <th>start_creative_id</th>\n",
       "      <th>start_interactive_id</th>\n",
       "    </tr>\n",
       "  </thead>\n",
       "  <tbody>\n",
       "    <tr>\n",
       "      <th>4901</th>\n",
       "      <td>2019-06-17 10:10:21</td>\n",
       "      <td>personal_choice</td>\n",
       "      <td>115</td>\n",
       "      <td>1</td>\n",
       "      <td>1</td>\n",
       "      <td>2</td>\n",
       "      <td>1</td>\n",
       "      <td>2019-06-17 10:10:20</td>\n",
       "      <td>115.0</td>\n",
       "      <td>1.0</td>\n",
       "      <td>1.0</td>\n",
       "    </tr>\n",
       "    <tr>\n",
       "      <th>5221</th>\n",
       "      <td>2019-06-17 10:52:16</td>\n",
       "      <td>personal_choice</td>\n",
       "      <td>115</td>\n",
       "      <td>1</td>\n",
       "      <td>1</td>\n",
       "      <td>2</td>\n",
       "      <td>1</td>\n",
       "      <td>2019-06-17 10:52:12</td>\n",
       "      <td>115.0</td>\n",
       "      <td>1.0</td>\n",
       "      <td>1.0</td>\n",
       "    </tr>\n",
       "    <tr>\n",
       "      <th>5262</th>\n",
       "      <td>2019-06-17 10:56:38</td>\n",
       "      <td>personal_choice</td>\n",
       "      <td>115</td>\n",
       "      <td>1</td>\n",
       "      <td>1</td>\n",
       "      <td>2</td>\n",
       "      <td>1</td>\n",
       "      <td>2019-06-17 10:56:37</td>\n",
       "      <td>115.0</td>\n",
       "      <td>1.0</td>\n",
       "      <td>1.0</td>\n",
       "    </tr>\n",
       "    <tr>\n",
       "      <th>5271</th>\n",
       "      <td>2019-06-17 10:57:21</td>\n",
       "      <td>personal_choice</td>\n",
       "      <td>115</td>\n",
       "      <td>1</td>\n",
       "      <td>1</td>\n",
       "      <td>2</td>\n",
       "      <td>1</td>\n",
       "      <td>2019-06-17 10:57:19</td>\n",
       "      <td>115.0</td>\n",
       "      <td>1.0</td>\n",
       "      <td>1.0</td>\n",
       "    </tr>\n",
       "    <tr>\n",
       "      <th>5292</th>\n",
       "      <td>2019-06-17 10:59:49</td>\n",
       "      <td>personal_choice</td>\n",
       "      <td>115</td>\n",
       "      <td>1</td>\n",
       "      <td>1</td>\n",
       "      <td>2</td>\n",
       "      <td>1</td>\n",
       "      <td>2019-06-17 10:57:21</td>\n",
       "      <td>115.0</td>\n",
       "      <td>1.0</td>\n",
       "      <td>1.0</td>\n",
       "    </tr>\n",
       "    <tr>\n",
       "      <th>5302</th>\n",
       "      <td>2019-06-17 11:01:06</td>\n",
       "      <td>personal_choice</td>\n",
       "      <td>115</td>\n",
       "      <td>1</td>\n",
       "      <td>1</td>\n",
       "      <td>2</td>\n",
       "      <td>1</td>\n",
       "      <td>2019-06-17 11:01:05</td>\n",
       "      <td>115.0</td>\n",
       "      <td>1.0</td>\n",
       "      <td>1.0</td>\n",
       "    </tr>\n",
       "    <tr>\n",
       "      <th>5701</th>\n",
       "      <td>2019-06-17 11:44:08</td>\n",
       "      <td>personal_choice</td>\n",
       "      <td>115</td>\n",
       "      <td>1</td>\n",
       "      <td>1</td>\n",
       "      <td>2</td>\n",
       "      <td>1</td>\n",
       "      <td>2019-06-17 11:44:06</td>\n",
       "      <td>115.0</td>\n",
       "      <td>1.0</td>\n",
       "      <td>1.0</td>\n",
       "    </tr>\n",
       "    <tr>\n",
       "      <th>58065</th>\n",
       "      <td>2019-06-18 18:16:43</td>\n",
       "      <td>personal_choice</td>\n",
       "      <td>12110</td>\n",
       "      <td>31</td>\n",
       "      <td>80</td>\n",
       "      <td>344</td>\n",
       "      <td>1</td>\n",
       "      <td>2019-06-18 18:16:35</td>\n",
       "      <td>12110.0</td>\n",
       "      <td>31.0</td>\n",
       "      <td>80.0</td>\n",
       "    </tr>\n",
       "    <tr>\n",
       "      <th>247621</th>\n",
       "      <td>2019-06-19 07:49:32</td>\n",
       "      <td>personal_choice</td>\n",
       "      <td>12110</td>\n",
       "      <td>32</td>\n",
       "      <td>109</td>\n",
       "      <td>464</td>\n",
       "      <td>1</td>\n",
       "      <td>2019-06-19 07:49:19</td>\n",
       "      <td>12110.0</td>\n",
       "      <td>32.0</td>\n",
       "      <td>109.0</td>\n",
       "    </tr>\n",
       "    <tr>\n",
       "      <th>248689</th>\n",
       "      <td>2019-06-19 07:52:12</td>\n",
       "      <td>personal_choice</td>\n",
       "      <td>12110</td>\n",
       "      <td>15</td>\n",
       "      <td>128</td>\n",
       "      <td>536</td>\n",
       "      <td>1</td>\n",
       "      <td>2019-06-19 07:52:06</td>\n",
       "      <td>12110.0</td>\n",
       "      <td>15.0</td>\n",
       "      <td>128.0</td>\n",
       "    </tr>\n",
       "  </tbody>\n",
       "</table>\n",
       "</div>"
      ],
      "text/plain": [
       "                choise_time       event_type  user_id  creative_id  \\\n",
       "4901    2019-06-17 10:10:21  personal_choice      115            1   \n",
       "5221    2019-06-17 10:52:16  personal_choice      115            1   \n",
       "5262    2019-06-17 10:56:38  personal_choice      115            1   \n",
       "5271    2019-06-17 10:57:21  personal_choice      115            1   \n",
       "5292    2019-06-17 10:59:49  personal_choice      115            1   \n",
       "5302    2019-06-17 11:01:06  personal_choice      115            1   \n",
       "5701    2019-06-17 11:44:08  personal_choice      115            1   \n",
       "58065   2019-06-18 18:16:43  personal_choice    12110           31   \n",
       "247621  2019-06-19 07:49:32  personal_choice    12110           32   \n",
       "248689  2019-06-19 07:52:12  personal_choice    12110           15   \n",
       "\n",
       "        interactive_id  interactive_item_id  _event_type           start_time  \\\n",
       "4901                 1                    2            1  2019-06-17 10:10:20   \n",
       "5221                 1                    2            1  2019-06-17 10:52:12   \n",
       "5262                 1                    2            1  2019-06-17 10:56:37   \n",
       "5271                 1                    2            1  2019-06-17 10:57:19   \n",
       "5292                 1                    2            1  2019-06-17 10:57:21   \n",
       "5302                 1                    2            1  2019-06-17 11:01:05   \n",
       "5701                 1                    2            1  2019-06-17 11:44:06   \n",
       "58065               80                  344            1  2019-06-18 18:16:35   \n",
       "247621             109                  464            1  2019-06-19 07:49:19   \n",
       "248689             128                  536            1  2019-06-19 07:52:06   \n",
       "\n",
       "        start_user_id  start_creative_id  start_interactive_id  \n",
       "4901            115.0                1.0                   1.0  \n",
       "5221            115.0                1.0                   1.0  \n",
       "5262            115.0                1.0                   1.0  \n",
       "5271            115.0                1.0                   1.0  \n",
       "5292            115.0                1.0                   1.0  \n",
       "5302            115.0                1.0                   1.0  \n",
       "5701            115.0                1.0                   1.0  \n",
       "58065         12110.0               31.0                  80.0  \n",
       "247621        12110.0               32.0                 109.0  \n",
       "248689        12110.0               15.0                 128.0  "
      ]
     },
     "execution_count": 198,
     "metadata": {},
     "output_type": "execute_result"
    }
   ],
   "source": [
    "personal_events[:10]"
   ]
  },
  {
   "cell_type": "markdown",
   "metadata": {},
   "source": [
    "# Теперь у нас в одной строке время начала и время ответа, для каждой сессии пользователя"
   ]
  },
  {
   "cell_type": "code",
   "execution_count": 222,
   "metadata": {},
   "outputs": [],
   "source": [
    "# проверим что все ок после сдвига:"
   ]
  },
  {
   "cell_type": "code",
   "execution_count": 204,
   "metadata": {},
   "outputs": [
    {
     "data": {
      "text/plain": [
       "(1119307, 11)"
      ]
     },
     "execution_count": 204,
     "metadata": {},
     "output_type": "execute_result"
    }
   ],
   "source": [
    "personal_events[personal_events.creative_id != personal_events.start_creative_id].shape"
   ]
  },
  {
   "cell_type": "code",
   "execution_count": 207,
   "metadata": {},
   "outputs": [
    {
     "data": {
      "text/plain": [
       "(1090299, 11)"
      ]
     },
     "execution_count": 207,
     "metadata": {},
     "output_type": "execute_result"
    }
   ],
   "source": [
    "personal_events[personal_events.interactive_id != personal_events.start_interactive_id].shape"
   ]
  },
  {
   "cell_type": "code",
   "execution_count": 209,
   "metadata": {},
   "outputs": [
    {
     "data": {
      "text/plain": [
       "(17603, 11)"
      ]
     },
     "execution_count": 209,
     "metadata": {},
     "output_type": "execute_result"
    }
   ],
   "source": [
    "personal_events[personal_events.user_id != personal_events.start_user_id].shape"
   ]
  },
  {
   "cell_type": "code",
   "execution_count": 221,
   "metadata": {},
   "outputs": [
    {
     "data": {
      "text/plain": [
       "(1149582, 11)"
      ]
     },
     "execution_count": 221,
     "metadata": {},
     "output_type": "execute_result"
    }
   ],
   "source": [
    "personal_events[\n",
    "    (personal_events.creative_id != personal_events.start_creative_id) |\\\n",
    "    (personal_events.interactive_id != personal_events.start_interactive_id) |\\\n",
    "    (personal_events.user_id != personal_events.start_user_id)\n",
    "].shape"
   ]
  },
  {
   "cell_type": "code",
   "execution_count": 212,
   "metadata": {},
   "outputs": [
    {
     "data": {
      "text/plain": [
       "0.1196759329866744"
      ]
     },
     "execution_count": 212,
     "metadata": {},
     "output_type": "execute_result"
    }
   ],
   "source": [
    "1149582 / personal_events.shape[0]"
   ]
  },
  {
   "cell_type": "markdown",
   "metadata": {},
   "source": [
    "# 12% строк сдвинулись криво. Разберемся почему"
   ]
  },
  {
   "cell_type": "markdown",
   "metadata": {},
   "source": [
    "## проблемы в сдвиге по user_id"
   ]
  },
  {
   "cell_type": "code",
   "execution_count": 225,
   "metadata": {},
   "outputs": [
    {
     "data": {
      "text/html": [
       "<div>\n",
       "<style scoped>\n",
       "    .dataframe tbody tr th:only-of-type {\n",
       "        vertical-align: middle;\n",
       "    }\n",
       "\n",
       "    .dataframe tbody tr th {\n",
       "        vertical-align: top;\n",
       "    }\n",
       "\n",
       "    .dataframe thead th {\n",
       "        text-align: right;\n",
       "    }\n",
       "</style>\n",
       "<table border=\"1\" class=\"dataframe\">\n",
       "  <thead>\n",
       "    <tr style=\"text-align: right;\">\n",
       "      <th></th>\n",
       "      <th>choise_time</th>\n",
       "      <th>event_type</th>\n",
       "      <th>user_id</th>\n",
       "      <th>creative_id</th>\n",
       "      <th>interactive_id</th>\n",
       "      <th>interactive_item_id</th>\n",
       "      <th>_event_type</th>\n",
       "      <th>start_time</th>\n",
       "      <th>start_user_id</th>\n",
       "      <th>start_creative_id</th>\n",
       "      <th>start_interactive_id</th>\n",
       "    </tr>\n",
       "  </thead>\n",
       "  <tbody>\n",
       "    <tr>\n",
       "      <th>161</th>\n",
       "      <td>2019-07-15 16:07:21</td>\n",
       "      <td>personal_choice</td>\n",
       "      <td>12770</td>\n",
       "      <td>30</td>\n",
       "      <td>164</td>\n",
       "      <td>702</td>\n",
       "      <td>1</td>\n",
       "      <td>2019-07-15 11:11:18</td>\n",
       "      <td>12110.0</td>\n",
       "      <td>44.0</td>\n",
       "      <td>201.0</td>\n",
       "    </tr>\n",
       "    <tr>\n",
       "      <th>829</th>\n",
       "      <td>2019-07-12 20:18:49</td>\n",
       "      <td>personal_choice</td>\n",
       "      <td>26760</td>\n",
       "      <td>44</td>\n",
       "      <td>28</td>\n",
       "      <td>97</td>\n",
       "      <td>1</td>\n",
       "      <td>2019-06-25 12:24:04</td>\n",
       "      <td>23983.0</td>\n",
       "      <td>38.0</td>\n",
       "      <td>142.0</td>\n",
       "    </tr>\n",
       "    <tr>\n",
       "      <th>1144</th>\n",
       "      <td>2019-06-24 13:50:51</td>\n",
       "      <td>personal_choice</td>\n",
       "      <td>49083</td>\n",
       "      <td>44</td>\n",
       "      <td>28</td>\n",
       "      <td>99</td>\n",
       "      <td>1</td>\n",
       "      <td>2019-07-16 07:11:40</td>\n",
       "      <td>48582.0</td>\n",
       "      <td>4.0</td>\n",
       "      <td>91.0</td>\n",
       "    </tr>\n",
       "    <tr>\n",
       "      <th>1730</th>\n",
       "      <td>2019-07-11 17:20:56</td>\n",
       "      <td>personal_choice</td>\n",
       "      <td>72281</td>\n",
       "      <td>41</td>\n",
       "      <td>201</td>\n",
       "      <td>857</td>\n",
       "      <td>1</td>\n",
       "      <td>2019-06-29 08:03:52</td>\n",
       "      <td>59686.0</td>\n",
       "      <td>4.0</td>\n",
       "      <td>90.0</td>\n",
       "    </tr>\n",
       "    <tr>\n",
       "      <th>1754</th>\n",
       "      <td>2019-07-13 04:57:28</td>\n",
       "      <td>personal_choice</td>\n",
       "      <td>77840</td>\n",
       "      <td>30</td>\n",
       "      <td>164</td>\n",
       "      <td>702</td>\n",
       "      <td>1</td>\n",
       "      <td>2019-07-06 17:50:06</td>\n",
       "      <td>77159.0</td>\n",
       "      <td>52.0</td>\n",
       "      <td>185.0</td>\n",
       "    </tr>\n",
       "    <tr>\n",
       "      <th>2213</th>\n",
       "      <td>2019-06-27 18:08:15</td>\n",
       "      <td>personal_choice</td>\n",
       "      <td>103247</td>\n",
       "      <td>44</td>\n",
       "      <td>164</td>\n",
       "      <td>702</td>\n",
       "      <td>1</td>\n",
       "      <td>2019-07-14 08:17:45</td>\n",
       "      <td>100428.0</td>\n",
       "      <td>54.0</td>\n",
       "      <td>159.0</td>\n",
       "    </tr>\n",
       "    <tr>\n",
       "      <th>3554</th>\n",
       "      <td>2019-07-01 16:36:01</td>\n",
       "      <td>personal_choice</td>\n",
       "      <td>223873</td>\n",
       "      <td>44</td>\n",
       "      <td>164</td>\n",
       "      <td>702</td>\n",
       "      <td>1</td>\n",
       "      <td>2019-07-15 18:16:26</td>\n",
       "      <td>222167.0</td>\n",
       "      <td>54.0</td>\n",
       "      <td>159.0</td>\n",
       "    </tr>\n",
       "    <tr>\n",
       "      <th>4795</th>\n",
       "      <td>2019-07-16 10:52:09</td>\n",
       "      <td>personal_choice</td>\n",
       "      <td>303815</td>\n",
       "      <td>35</td>\n",
       "      <td>184</td>\n",
       "      <td>781</td>\n",
       "      <td>1</td>\n",
       "      <td>2019-07-14 18:56:48</td>\n",
       "      <td>301631.0</td>\n",
       "      <td>44.0</td>\n",
       "      <td>164.0</td>\n",
       "    </tr>\n",
       "    <tr>\n",
       "      <th>5773</th>\n",
       "      <td>2019-06-19 18:17:52</td>\n",
       "      <td>personal_choice</td>\n",
       "      <td>349775</td>\n",
       "      <td>34</td>\n",
       "      <td>80</td>\n",
       "      <td>343</td>\n",
       "      <td>1</td>\n",
       "      <td>2019-07-07 16:44:42</td>\n",
       "      <td>348953.0</td>\n",
       "      <td>4.0</td>\n",
       "      <td>163.0</td>\n",
       "    </tr>\n",
       "    <tr>\n",
       "      <th>5987</th>\n",
       "      <td>2019-06-30 19:06:06</td>\n",
       "      <td>personal_choice</td>\n",
       "      <td>361911</td>\n",
       "      <td>50</td>\n",
       "      <td>82</td>\n",
       "      <td>351</td>\n",
       "      <td>1</td>\n",
       "      <td>2019-07-08 22:59:49</td>\n",
       "      <td>357545.0</td>\n",
       "      <td>53.0</td>\n",
       "      <td>191.0</td>\n",
       "    </tr>\n",
       "  </tbody>\n",
       "</table>\n",
       "</div>"
      ],
      "text/plain": [
       "              choise_time       event_type  user_id  creative_id  \\\n",
       "161   2019-07-15 16:07:21  personal_choice    12770           30   \n",
       "829   2019-07-12 20:18:49  personal_choice    26760           44   \n",
       "1144  2019-06-24 13:50:51  personal_choice    49083           44   \n",
       "1730  2019-07-11 17:20:56  personal_choice    72281           41   \n",
       "1754  2019-07-13 04:57:28  personal_choice    77840           30   \n",
       "2213  2019-06-27 18:08:15  personal_choice   103247           44   \n",
       "3554  2019-07-01 16:36:01  personal_choice   223873           44   \n",
       "4795  2019-07-16 10:52:09  personal_choice   303815           35   \n",
       "5773  2019-06-19 18:17:52  personal_choice   349775           34   \n",
       "5987  2019-06-30 19:06:06  personal_choice   361911           50   \n",
       "\n",
       "      interactive_id  interactive_item_id  _event_type           start_time  \\\n",
       "161              164                  702            1  2019-07-15 11:11:18   \n",
       "829               28                   97            1  2019-06-25 12:24:04   \n",
       "1144              28                   99            1  2019-07-16 07:11:40   \n",
       "1730             201                  857            1  2019-06-29 08:03:52   \n",
       "1754             164                  702            1  2019-07-06 17:50:06   \n",
       "2213             164                  702            1  2019-07-14 08:17:45   \n",
       "3554             164                  702            1  2019-07-15 18:16:26   \n",
       "4795             184                  781            1  2019-07-14 18:56:48   \n",
       "5773              80                  343            1  2019-07-07 16:44:42   \n",
       "5987              82                  351            1  2019-07-08 22:59:49   \n",
       "\n",
       "      start_user_id  start_creative_id  start_interactive_id  \n",
       "161         12110.0               44.0                 201.0  \n",
       "829         23983.0               38.0                 142.0  \n",
       "1144        48582.0                4.0                  91.0  \n",
       "1730        59686.0                4.0                  90.0  \n",
       "1754        77159.0               52.0                 185.0  \n",
       "2213       100428.0               54.0                 159.0  \n",
       "3554       222167.0               54.0                 159.0  \n",
       "4795       301631.0               44.0                 164.0  \n",
       "5773       348953.0                4.0                 163.0  \n",
       "5987       357545.0               53.0                 191.0  "
      ]
     },
     "execution_count": 225,
     "metadata": {},
     "output_type": "execute_result"
    }
   ],
   "source": [
    "personal_events[personal_events.user_id != personal_events.start_user_id][:10]"
   ]
  },
  {
   "cell_type": "code",
   "execution_count": 226,
   "metadata": {},
   "outputs": [],
   "source": [
    "# чтобы сэкономить время, я просто прочитаю df еще раз и повторю несколько преобразований\n",
    "origin_personal_events = pd.read_csv('LiST/personal_events.csv')"
   ]
  },
  {
   "cell_type": "code",
   "execution_count": 230,
   "metadata": {},
   "outputs": [],
   "source": [
    "origin_personal_events['_event_type'] = origin_personal_events.event_type.map({'personal_start': 0, 'personal_choice': 1, 'personal_success': 2})"
   ]
  },
  {
   "cell_type": "code",
   "execution_count": 231,
   "metadata": {},
   "outputs": [],
   "source": [
    "origin_personal_events = origin_personal_events.sort_values(by=['user_id', 'created', '_event_type']).reset_index(drop=True)"
   ]
  },
  {
   "cell_type": "code",
   "execution_count": 233,
   "metadata": {},
   "outputs": [],
   "source": [
    "# посмотрим откуда ошибка в строке\n",
    "# 2019-06-24 13:50:51\tpersonal_choice\t49083\t44\t28\t99\t1\t2019-07-16 07:11:40\t48582.0\t4.0\t91.0"
   ]
  },
  {
   "cell_type": "code",
   "execution_count": 237,
   "metadata": {},
   "outputs": [
    {
     "data": {
      "text/html": [
       "<div>\n",
       "<style scoped>\n",
       "    .dataframe tbody tr th:only-of-type {\n",
       "        vertical-align: middle;\n",
       "    }\n",
       "\n",
       "    .dataframe tbody tr th {\n",
       "        vertical-align: top;\n",
       "    }\n",
       "\n",
       "    .dataframe thead th {\n",
       "        text-align: right;\n",
       "    }\n",
       "</style>\n",
       "<table border=\"1\" class=\"dataframe\">\n",
       "  <thead>\n",
       "    <tr style=\"text-align: right;\">\n",
       "      <th></th>\n",
       "      <th>created</th>\n",
       "      <th>event_type</th>\n",
       "      <th>user_id</th>\n",
       "      <th>creative_id</th>\n",
       "      <th>interactive_id</th>\n",
       "      <th>interactive_item_id</th>\n",
       "      <th>_event_type</th>\n",
       "    </tr>\n",
       "  </thead>\n",
       "  <tbody>\n",
       "    <tr>\n",
       "      <th>1717</th>\n",
       "      <td>2019-06-24 13:50:51</td>\n",
       "      <td>personal_choice</td>\n",
       "      <td>49083</td>\n",
       "      <td>44</td>\n",
       "      <td>28</td>\n",
       "      <td>99</td>\n",
       "      <td>1</td>\n",
       "    </tr>\n",
       "  </tbody>\n",
       "</table>\n",
       "</div>"
      ],
      "text/plain": [
       "                  created       event_type  user_id  creative_id  \\\n",
       "1717  2019-06-24 13:50:51  personal_choice    49083           44   \n",
       "\n",
       "      interactive_id  interactive_item_id  _event_type  \n",
       "1717              28                   99            1  "
      ]
     },
     "execution_count": 237,
     "metadata": {},
     "output_type": "execute_result"
    }
   ],
   "source": [
    "origin_personal_events[(origin_personal_events.created == '2019-06-24 13:50:51') & (origin_personal_events.user_id == 49083)]"
   ]
  },
  {
   "cell_type": "code",
   "execution_count": 238,
   "metadata": {},
   "outputs": [
    {
     "data": {
      "text/html": [
       "<div>\n",
       "<style scoped>\n",
       "    .dataframe tbody tr th:only-of-type {\n",
       "        vertical-align: middle;\n",
       "    }\n",
       "\n",
       "    .dataframe tbody tr th {\n",
       "        vertical-align: top;\n",
       "    }\n",
       "\n",
       "    .dataframe thead th {\n",
       "        text-align: right;\n",
       "    }\n",
       "</style>\n",
       "<table border=\"1\" class=\"dataframe\">\n",
       "  <thead>\n",
       "    <tr style=\"text-align: right;\">\n",
       "      <th></th>\n",
       "      <th>created</th>\n",
       "      <th>event_type</th>\n",
       "      <th>user_id</th>\n",
       "      <th>creative_id</th>\n",
       "      <th>interactive_id</th>\n",
       "      <th>interactive_item_id</th>\n",
       "      <th>_event_type</th>\n",
       "    </tr>\n",
       "  </thead>\n",
       "  <tbody>\n",
       "    <tr>\n",
       "      <th>1716</th>\n",
       "      <td>2019-07-16 07:11:40</td>\n",
       "      <td>personal_success</td>\n",
       "      <td>48582</td>\n",
       "      <td>4</td>\n",
       "      <td>91</td>\n",
       "      <td>0</td>\n",
       "      <td>2</td>\n",
       "    </tr>\n",
       "    <tr>\n",
       "      <th>1717</th>\n",
       "      <td>2019-06-24 13:50:51</td>\n",
       "      <td>personal_choice</td>\n",
       "      <td>49083</td>\n",
       "      <td>44</td>\n",
       "      <td>28</td>\n",
       "      <td>99</td>\n",
       "      <td>1</td>\n",
       "    </tr>\n",
       "    <tr>\n",
       "      <th>1718</th>\n",
       "      <td>2019-06-24 13:50:53</td>\n",
       "      <td>personal_start</td>\n",
       "      <td>49083</td>\n",
       "      <td>44</td>\n",
       "      <td>28</td>\n",
       "      <td>0</td>\n",
       "      <td>0</td>\n",
       "    </tr>\n",
       "    <tr>\n",
       "      <th>1719</th>\n",
       "      <td>2019-06-24 13:50:57</td>\n",
       "      <td>personal_success</td>\n",
       "      <td>49083</td>\n",
       "      <td>44</td>\n",
       "      <td>28</td>\n",
       "      <td>0</td>\n",
       "      <td>2</td>\n",
       "    </tr>\n",
       "  </tbody>\n",
       "</table>\n",
       "</div>"
      ],
      "text/plain": [
       "                  created        event_type  user_id  creative_id  \\\n",
       "1716  2019-07-16 07:11:40  personal_success    48582            4   \n",
       "1717  2019-06-24 13:50:51   personal_choice    49083           44   \n",
       "1718  2019-06-24 13:50:53    personal_start    49083           44   \n",
       "1719  2019-06-24 13:50:57  personal_success    49083           44   \n",
       "\n",
       "      interactive_id  interactive_item_id  _event_type  \n",
       "1716              91                    0            2  \n",
       "1717              28                   99            1  \n",
       "1718              28                    0            0  \n",
       "1719              28                    0            2  "
      ]
     },
     "execution_count": 238,
     "metadata": {},
     "output_type": "execute_result"
    }
   ],
   "source": [
    "# тут мы видим, что personal_choice пришел раньше чем personal_start\n",
    "origin_personal_events[1716:1720]"
   ]
  },
  {
   "cell_type": "code",
   "execution_count": 239,
   "metadata": {},
   "outputs": [
    {
     "data": {
      "text/html": [
       "<div>\n",
       "<style scoped>\n",
       "    .dataframe tbody tr th:only-of-type {\n",
       "        vertical-align: middle;\n",
       "    }\n",
       "\n",
       "    .dataframe tbody tr th {\n",
       "        vertical-align: top;\n",
       "    }\n",
       "\n",
       "    .dataframe thead th {\n",
       "        text-align: right;\n",
       "    }\n",
       "</style>\n",
       "<table border=\"1\" class=\"dataframe\">\n",
       "  <thead>\n",
       "    <tr style=\"text-align: right;\">\n",
       "      <th></th>\n",
       "      <th>created</th>\n",
       "      <th>event_type</th>\n",
       "      <th>user_id</th>\n",
       "      <th>creative_id</th>\n",
       "      <th>interactive_id</th>\n",
       "      <th>interactive_item_id</th>\n",
       "      <th>_event_type</th>\n",
       "    </tr>\n",
       "  </thead>\n",
       "  <tbody>\n",
       "    <tr>\n",
       "      <th>1245</th>\n",
       "      <td>2019-07-12 20:18:49</td>\n",
       "      <td>personal_choice</td>\n",
       "      <td>26760</td>\n",
       "      <td>44</td>\n",
       "      <td>28</td>\n",
       "      <td>97</td>\n",
       "      <td>1</td>\n",
       "    </tr>\n",
       "  </tbody>\n",
       "</table>\n",
       "</div>"
      ],
      "text/plain": [
       "                  created       event_type  user_id  creative_id  \\\n",
       "1245  2019-07-12 20:18:49  personal_choice    26760           44   \n",
       "\n",
       "      interactive_id  interactive_item_id  _event_type  \n",
       "1245              28                   97            1  "
      ]
     },
     "execution_count": 239,
     "metadata": {},
     "output_type": "execute_result"
    }
   ],
   "source": [
    "# строка с ошибкой\n",
    "# 2019-07-12 20:18:49\tpersonal_choice\t26760\t44\t28\t97\t1\t2019-06-25 12:24:04\t23983.0\t38.0\t142.0\n",
    "origin_personal_events[(origin_personal_events.created == '2019-07-12 20:18:49') & (origin_personal_events.user_id == 26760)]"
   ]
  },
  {
   "cell_type": "code",
   "execution_count": 240,
   "metadata": {},
   "outputs": [
    {
     "data": {
      "text/html": [
       "<div>\n",
       "<style scoped>\n",
       "    .dataframe tbody tr th:only-of-type {\n",
       "        vertical-align: middle;\n",
       "    }\n",
       "\n",
       "    .dataframe tbody tr th {\n",
       "        vertical-align: top;\n",
       "    }\n",
       "\n",
       "    .dataframe thead th {\n",
       "        text-align: right;\n",
       "    }\n",
       "</style>\n",
       "<table border=\"1\" class=\"dataframe\">\n",
       "  <thead>\n",
       "    <tr style=\"text-align: right;\">\n",
       "      <th></th>\n",
       "      <th>created</th>\n",
       "      <th>event_type</th>\n",
       "      <th>user_id</th>\n",
       "      <th>creative_id</th>\n",
       "      <th>interactive_id</th>\n",
       "      <th>interactive_item_id</th>\n",
       "      <th>_event_type</th>\n",
       "    </tr>\n",
       "  </thead>\n",
       "  <tbody>\n",
       "    <tr>\n",
       "      <th>1243</th>\n",
       "      <td>2019-06-25 12:23:56</td>\n",
       "      <td>personal_start</td>\n",
       "      <td>23983</td>\n",
       "      <td>38</td>\n",
       "      <td>142</td>\n",
       "      <td>0</td>\n",
       "      <td>0</td>\n",
       "    </tr>\n",
       "    <tr>\n",
       "      <th>1244</th>\n",
       "      <td>2019-06-25 12:24:04</td>\n",
       "      <td>personal_choice</td>\n",
       "      <td>23983</td>\n",
       "      <td>38</td>\n",
       "      <td>142</td>\n",
       "      <td>601</td>\n",
       "      <td>1</td>\n",
       "    </tr>\n",
       "    <tr>\n",
       "      <th>1245</th>\n",
       "      <td>2019-07-12 20:18:49</td>\n",
       "      <td>personal_choice</td>\n",
       "      <td>26760</td>\n",
       "      <td>44</td>\n",
       "      <td>28</td>\n",
       "      <td>97</td>\n",
       "      <td>1</td>\n",
       "    </tr>\n",
       "    <tr>\n",
       "      <th>1246</th>\n",
       "      <td>2019-07-12 20:18:52</td>\n",
       "      <td>personal_start</td>\n",
       "      <td>26760</td>\n",
       "      <td>44</td>\n",
       "      <td>28</td>\n",
       "      <td>0</td>\n",
       "      <td>0</td>\n",
       "    </tr>\n",
       "  </tbody>\n",
       "</table>\n",
       "</div>"
      ],
      "text/plain": [
       "                  created       event_type  user_id  creative_id  \\\n",
       "1243  2019-06-25 12:23:56   personal_start    23983           38   \n",
       "1244  2019-06-25 12:24:04  personal_choice    23983           38   \n",
       "1245  2019-07-12 20:18:49  personal_choice    26760           44   \n",
       "1246  2019-07-12 20:18:52   personal_start    26760           44   \n",
       "\n",
       "      interactive_id  interactive_item_id  _event_type  \n",
       "1243             142                    0            0  \n",
       "1244             142                  601            1  \n",
       "1245              28                   97            1  \n",
       "1246              28                    0            0  "
      ]
     },
     "execution_count": 240,
     "metadata": {},
     "output_type": "execute_result"
    }
   ],
   "source": [
    "# та же история, personal_choice пришел раньше чем personal_start\n",
    "origin_personal_events[1243:1247]"
   ]
  },
  {
   "cell_type": "markdown",
   "metadata": {},
   "source": [
    "## проблемы в сдвиге по interactive_id"
   ]
  },
  {
   "cell_type": "code",
   "execution_count": 241,
   "metadata": {},
   "outputs": [
    {
     "data": {
      "text/html": [
       "<div>\n",
       "<style scoped>\n",
       "    .dataframe tbody tr th:only-of-type {\n",
       "        vertical-align: middle;\n",
       "    }\n",
       "\n",
       "    .dataframe tbody tr th {\n",
       "        vertical-align: top;\n",
       "    }\n",
       "\n",
       "    .dataframe thead th {\n",
       "        text-align: right;\n",
       "    }\n",
       "</style>\n",
       "<table border=\"1\" class=\"dataframe\">\n",
       "  <thead>\n",
       "    <tr style=\"text-align: right;\">\n",
       "      <th></th>\n",
       "      <th>choise_time</th>\n",
       "      <th>event_type</th>\n",
       "      <th>user_id</th>\n",
       "      <th>creative_id</th>\n",
       "      <th>interactive_id</th>\n",
       "      <th>interactive_item_id</th>\n",
       "      <th>_event_type</th>\n",
       "      <th>start_time</th>\n",
       "      <th>start_user_id</th>\n",
       "      <th>start_creative_id</th>\n",
       "      <th>start_interactive_id</th>\n",
       "    </tr>\n",
       "  </thead>\n",
       "  <tbody>\n",
       "    <tr>\n",
       "      <th>28</th>\n",
       "      <td>2019-06-20 07:26:41</td>\n",
       "      <td>personal_choice</td>\n",
       "      <td>12110</td>\n",
       "      <td>36</td>\n",
       "      <td>138</td>\n",
       "      <td>579</td>\n",
       "      <td>1</td>\n",
       "      <td>2019-06-19 14:29:38</td>\n",
       "      <td>12110.0</td>\n",
       "      <td>3.0</td>\n",
       "      <td>81.0</td>\n",
       "    </tr>\n",
       "    <tr>\n",
       "      <th>32</th>\n",
       "      <td>2019-06-20 08:22:57</td>\n",
       "      <td>personal_choice</td>\n",
       "      <td>12110</td>\n",
       "      <td>33</td>\n",
       "      <td>82</td>\n",
       "      <td>354</td>\n",
       "      <td>1</td>\n",
       "      <td>2019-06-20 07:27:30</td>\n",
       "      <td>12110.0</td>\n",
       "      <td>36.0</td>\n",
       "      <td>138.0</td>\n",
       "    </tr>\n",
       "    <tr>\n",
       "      <th>47</th>\n",
       "      <td>2019-06-23 10:42:53</td>\n",
       "      <td>personal_choice</td>\n",
       "      <td>12110</td>\n",
       "      <td>42</td>\n",
       "      <td>142</td>\n",
       "      <td>602</td>\n",
       "      <td>1</td>\n",
       "      <td>2019-06-23 09:48:21</td>\n",
       "      <td>12110.0</td>\n",
       "      <td>41.0</td>\n",
       "      <td>30.0</td>\n",
       "    </tr>\n",
       "    <tr>\n",
       "      <th>54</th>\n",
       "      <td>2019-06-24 08:35:10</td>\n",
       "      <td>personal_choice</td>\n",
       "      <td>12110</td>\n",
       "      <td>1</td>\n",
       "      <td>96</td>\n",
       "      <td>404</td>\n",
       "      <td>1</td>\n",
       "      <td>2019-06-24 07:24:53</td>\n",
       "      <td>12110.0</td>\n",
       "      <td>16.0</td>\n",
       "      <td>115.0</td>\n",
       "    </tr>\n",
       "    <tr>\n",
       "      <th>60</th>\n",
       "      <td>2019-06-24 10:21:47</td>\n",
       "      <td>personal_choice</td>\n",
       "      <td>12110</td>\n",
       "      <td>30</td>\n",
       "      <td>126</td>\n",
       "      <td>527</td>\n",
       "      <td>1</td>\n",
       "      <td>2019-06-24 10:11:50</td>\n",
       "      <td>12110.0</td>\n",
       "      <td>15.0</td>\n",
       "      <td>129.0</td>\n",
       "    </tr>\n",
       "  </tbody>\n",
       "</table>\n",
       "</div>"
      ],
      "text/plain": [
       "            choise_time       event_type  user_id  creative_id  \\\n",
       "28  2019-06-20 07:26:41  personal_choice    12110           36   \n",
       "32  2019-06-20 08:22:57  personal_choice    12110           33   \n",
       "47  2019-06-23 10:42:53  personal_choice    12110           42   \n",
       "54  2019-06-24 08:35:10  personal_choice    12110            1   \n",
       "60  2019-06-24 10:21:47  personal_choice    12110           30   \n",
       "\n",
       "    interactive_id  interactive_item_id  _event_type           start_time  \\\n",
       "28             138                  579            1  2019-06-19 14:29:38   \n",
       "32              82                  354            1  2019-06-20 07:27:30   \n",
       "47             142                  602            1  2019-06-23 09:48:21   \n",
       "54              96                  404            1  2019-06-24 07:24:53   \n",
       "60             126                  527            1  2019-06-24 10:11:50   \n",
       "\n",
       "    start_user_id  start_creative_id  start_interactive_id  \n",
       "28        12110.0                3.0                  81.0  \n",
       "32        12110.0               36.0                 138.0  \n",
       "47        12110.0               41.0                  30.0  \n",
       "54        12110.0               16.0                 115.0  \n",
       "60        12110.0               15.0                 129.0  "
      ]
     },
     "execution_count": 241,
     "metadata": {},
     "output_type": "execute_result"
    }
   ],
   "source": [
    "personal_events[personal_events.interactive_id != personal_events.start_interactive_id][:5]"
   ]
  },
  {
   "cell_type": "code",
   "execution_count": 244,
   "metadata": {},
   "outputs": [
    {
     "data": {
      "text/html": [
       "<div>\n",
       "<style scoped>\n",
       "    .dataframe tbody tr th:only-of-type {\n",
       "        vertical-align: middle;\n",
       "    }\n",
       "\n",
       "    .dataframe tbody tr th {\n",
       "        vertical-align: top;\n",
       "    }\n",
       "\n",
       "    .dataframe thead th {\n",
       "        text-align: right;\n",
       "    }\n",
       "</style>\n",
       "<table border=\"1\" class=\"dataframe\">\n",
       "  <thead>\n",
       "    <tr style=\"text-align: right;\">\n",
       "      <th></th>\n",
       "      <th>created</th>\n",
       "      <th>event_type</th>\n",
       "      <th>user_id</th>\n",
       "      <th>creative_id</th>\n",
       "      <th>interactive_id</th>\n",
       "      <th>interactive_item_id</th>\n",
       "      <th>_event_type</th>\n",
       "    </tr>\n",
       "  </thead>\n",
       "  <tbody>\n",
       "    <tr>\n",
       "      <th>42</th>\n",
       "      <td>2019-06-20 07:26:41</td>\n",
       "      <td>personal_choice</td>\n",
       "      <td>12110</td>\n",
       "      <td>36</td>\n",
       "      <td>138</td>\n",
       "      <td>579</td>\n",
       "      <td>1</td>\n",
       "    </tr>\n",
       "  </tbody>\n",
       "</table>\n",
       "</div>"
      ],
      "text/plain": [
       "                created       event_type  user_id  creative_id  \\\n",
       "42  2019-06-20 07:26:41  personal_choice    12110           36   \n",
       "\n",
       "    interactive_id  interactive_item_id  _event_type  \n",
       "42             138                  579            1  "
      ]
     },
     "execution_count": 244,
     "metadata": {},
     "output_type": "execute_result"
    }
   ],
   "source": [
    "# строка с ошибкой\n",
    "# 2019-06-20 07:26:41\tpersonal_choice\t12110\t36\t138\t579\t1\t2019-06-19 14:29:38\t12110.0\t3.0\t81.0\n",
    "origin_personal_events[(origin_personal_events.created == '2019-06-20 07:26:41') & (origin_personal_events.user_id == 12110)]"
   ]
  },
  {
   "cell_type": "code",
   "execution_count": 247,
   "metadata": {},
   "outputs": [
    {
     "data": {
      "text/html": [
       "<div>\n",
       "<style scoped>\n",
       "    .dataframe tbody tr th:only-of-type {\n",
       "        vertical-align: middle;\n",
       "    }\n",
       "\n",
       "    .dataframe tbody tr th {\n",
       "        vertical-align: top;\n",
       "    }\n",
       "\n",
       "    .dataframe thead th {\n",
       "        text-align: right;\n",
       "    }\n",
       "</style>\n",
       "<table border=\"1\" class=\"dataframe\">\n",
       "  <thead>\n",
       "    <tr style=\"text-align: right;\">\n",
       "      <th></th>\n",
       "      <th>created</th>\n",
       "      <th>event_type</th>\n",
       "      <th>user_id</th>\n",
       "      <th>creative_id</th>\n",
       "      <th>interactive_id</th>\n",
       "      <th>interactive_item_id</th>\n",
       "      <th>_event_type</th>\n",
       "    </tr>\n",
       "  </thead>\n",
       "  <tbody>\n",
       "    <tr>\n",
       "      <th>42</th>\n",
       "      <td>2019-06-20 07:26:41</td>\n",
       "      <td>personal_choice</td>\n",
       "      <td>12110</td>\n",
       "      <td>36</td>\n",
       "      <td>138</td>\n",
       "      <td>579</td>\n",
       "      <td>1</td>\n",
       "    </tr>\n",
       "    <tr>\n",
       "      <th>43</th>\n",
       "      <td>2019-06-20 07:26:44</td>\n",
       "      <td>personal_start</td>\n",
       "      <td>12110</td>\n",
       "      <td>36</td>\n",
       "      <td>138</td>\n",
       "      <td>0</td>\n",
       "      <td>0</td>\n",
       "    </tr>\n",
       "    <tr>\n",
       "      <th>44</th>\n",
       "      <td>2019-06-20 07:26:47</td>\n",
       "      <td>personal_success</td>\n",
       "      <td>12110</td>\n",
       "      <td>36</td>\n",
       "      <td>138</td>\n",
       "      <td>0</td>\n",
       "      <td>2</td>\n",
       "    </tr>\n",
       "  </tbody>\n",
       "</table>\n",
       "</div>"
      ],
      "text/plain": [
       "                created        event_type  user_id  creative_id  \\\n",
       "42  2019-06-20 07:26:41   personal_choice    12110           36   \n",
       "43  2019-06-20 07:26:44    personal_start    12110           36   \n",
       "44  2019-06-20 07:26:47  personal_success    12110           36   \n",
       "\n",
       "    interactive_id  interactive_item_id  _event_type  \n",
       "42             138                  579            1  \n",
       "43             138                    0            0  \n",
       "44             138                    0            2  "
      ]
     },
     "execution_count": 247,
     "metadata": {},
     "output_type": "execute_result"
    }
   ],
   "source": [
    "# та же история, события пришли не в том порядке\n",
    "origin_personal_events[42:45]"
   ]
  },
  {
   "cell_type": "markdown",
   "metadata": {},
   "source": [
    "# Можно попробовать округлить время и сортировать не только по времени но и по creative_id\tinteractive_id, это должно снизить колличество ошибок"
   ]
  },
  {
   "cell_type": "code",
   "execution_count": 254,
   "metadata": {},
   "outputs": [],
   "source": [
    "origin_personal_events['time'] = pd.to_datetime(origin_personal_events.created)"
   ]
  },
  {
   "cell_type": "code",
   "execution_count": 264,
   "metadata": {},
   "outputs": [],
   "source": [
    "origin_personal_events['rounded_time'] = origin_personal_events.time.dt.round('min')"
   ]
  },
  {
   "cell_type": "code",
   "execution_count": 265,
   "metadata": {},
   "outputs": [
    {
     "data": {
      "text/html": [
       "<div>\n",
       "<style scoped>\n",
       "    .dataframe tbody tr th:only-of-type {\n",
       "        vertical-align: middle;\n",
       "    }\n",
       "\n",
       "    .dataframe tbody tr th {\n",
       "        vertical-align: top;\n",
       "    }\n",
       "\n",
       "    .dataframe thead th {\n",
       "        text-align: right;\n",
       "    }\n",
       "</style>\n",
       "<table border=\"1\" class=\"dataframe\">\n",
       "  <thead>\n",
       "    <tr style=\"text-align: right;\">\n",
       "      <th></th>\n",
       "      <th>created</th>\n",
       "      <th>event_type</th>\n",
       "      <th>user_id</th>\n",
       "      <th>creative_id</th>\n",
       "      <th>interactive_id</th>\n",
       "      <th>interactive_item_id</th>\n",
       "      <th>_event_type</th>\n",
       "      <th>rounded_time</th>\n",
       "      <th>time</th>\n",
       "    </tr>\n",
       "  </thead>\n",
       "  <tbody>\n",
       "    <tr>\n",
       "      <th>0</th>\n",
       "      <td>2019-06-17 10:10:20</td>\n",
       "      <td>personal_start</td>\n",
       "      <td>115</td>\n",
       "      <td>1</td>\n",
       "      <td>1</td>\n",
       "      <td>0</td>\n",
       "      <td>0</td>\n",
       "      <td>2019-06-17 10:10:00</td>\n",
       "      <td>2019-06-17 10:10:20</td>\n",
       "    </tr>\n",
       "    <tr>\n",
       "      <th>1</th>\n",
       "      <td>2019-06-17 10:10:21</td>\n",
       "      <td>personal_choice</td>\n",
       "      <td>115</td>\n",
       "      <td>1</td>\n",
       "      <td>1</td>\n",
       "      <td>2</td>\n",
       "      <td>1</td>\n",
       "      <td>2019-06-17 10:10:00</td>\n",
       "      <td>2019-06-17 10:10:21</td>\n",
       "    </tr>\n",
       "    <tr>\n",
       "      <th>2</th>\n",
       "      <td>2019-06-17 10:10:21</td>\n",
       "      <td>personal_success</td>\n",
       "      <td>115</td>\n",
       "      <td>1</td>\n",
       "      <td>1</td>\n",
       "      <td>0</td>\n",
       "      <td>2</td>\n",
       "      <td>2019-06-17 10:10:00</td>\n",
       "      <td>2019-06-17 10:10:21</td>\n",
       "    </tr>\n",
       "    <tr>\n",
       "      <th>3</th>\n",
       "      <td>2019-06-17 10:52:12</td>\n",
       "      <td>personal_start</td>\n",
       "      <td>115</td>\n",
       "      <td>1</td>\n",
       "      <td>1</td>\n",
       "      <td>0</td>\n",
       "      <td>0</td>\n",
       "      <td>2019-06-17 10:52:00</td>\n",
       "      <td>2019-06-17 10:52:12</td>\n",
       "    </tr>\n",
       "    <tr>\n",
       "      <th>4</th>\n",
       "      <td>2019-06-17 10:52:13</td>\n",
       "      <td>personal_success</td>\n",
       "      <td>115</td>\n",
       "      <td>1</td>\n",
       "      <td>1</td>\n",
       "      <td>0</td>\n",
       "      <td>2</td>\n",
       "      <td>2019-06-17 10:52:00</td>\n",
       "      <td>2019-06-17 10:52:13</td>\n",
       "    </tr>\n",
       "    <tr>\n",
       "      <th>5</th>\n",
       "      <td>2019-06-17 10:52:16</td>\n",
       "      <td>personal_choice</td>\n",
       "      <td>115</td>\n",
       "      <td>1</td>\n",
       "      <td>1</td>\n",
       "      <td>2</td>\n",
       "      <td>1</td>\n",
       "      <td>2019-06-17 10:52:00</td>\n",
       "      <td>2019-06-17 10:52:16</td>\n",
       "    </tr>\n",
       "    <tr>\n",
       "      <th>6</th>\n",
       "      <td>2019-06-17 10:56:37</td>\n",
       "      <td>personal_start</td>\n",
       "      <td>115</td>\n",
       "      <td>1</td>\n",
       "      <td>1</td>\n",
       "      <td>0</td>\n",
       "      <td>0</td>\n",
       "      <td>2019-06-17 10:57:00</td>\n",
       "      <td>2019-06-17 10:56:37</td>\n",
       "    </tr>\n",
       "    <tr>\n",
       "      <th>7</th>\n",
       "      <td>2019-06-17 10:56:38</td>\n",
       "      <td>personal_choice</td>\n",
       "      <td>115</td>\n",
       "      <td>1</td>\n",
       "      <td>1</td>\n",
       "      <td>2</td>\n",
       "      <td>1</td>\n",
       "      <td>2019-06-17 10:57:00</td>\n",
       "      <td>2019-06-17 10:56:38</td>\n",
       "    </tr>\n",
       "    <tr>\n",
       "      <th>8</th>\n",
       "      <td>2019-06-17 10:56:39</td>\n",
       "      <td>personal_success</td>\n",
       "      <td>115</td>\n",
       "      <td>1</td>\n",
       "      <td>1</td>\n",
       "      <td>0</td>\n",
       "      <td>2</td>\n",
       "      <td>2019-06-17 10:57:00</td>\n",
       "      <td>2019-06-17 10:56:39</td>\n",
       "    </tr>\n",
       "    <tr>\n",
       "      <th>9</th>\n",
       "      <td>2019-06-17 10:57:19</td>\n",
       "      <td>personal_start</td>\n",
       "      <td>115</td>\n",
       "      <td>1</td>\n",
       "      <td>1</td>\n",
       "      <td>0</td>\n",
       "      <td>0</td>\n",
       "      <td>2019-06-17 10:57:00</td>\n",
       "      <td>2019-06-17 10:57:19</td>\n",
       "    </tr>\n",
       "  </tbody>\n",
       "</table>\n",
       "</div>"
      ],
      "text/plain": [
       "               created        event_type  user_id  creative_id  \\\n",
       "0  2019-06-17 10:10:20    personal_start      115            1   \n",
       "1  2019-06-17 10:10:21   personal_choice      115            1   \n",
       "2  2019-06-17 10:10:21  personal_success      115            1   \n",
       "3  2019-06-17 10:52:12    personal_start      115            1   \n",
       "4  2019-06-17 10:52:13  personal_success      115            1   \n",
       "5  2019-06-17 10:52:16   personal_choice      115            1   \n",
       "6  2019-06-17 10:56:37    personal_start      115            1   \n",
       "7  2019-06-17 10:56:38   personal_choice      115            1   \n",
       "8  2019-06-17 10:56:39  personal_success      115            1   \n",
       "9  2019-06-17 10:57:19    personal_start      115            1   \n",
       "\n",
       "   interactive_id  interactive_item_id  _event_type        rounded_time  \\\n",
       "0               1                    0            0 2019-06-17 10:10:00   \n",
       "1               1                    2            1 2019-06-17 10:10:00   \n",
       "2               1                    0            2 2019-06-17 10:10:00   \n",
       "3               1                    0            0 2019-06-17 10:52:00   \n",
       "4               1                    0            2 2019-06-17 10:52:00   \n",
       "5               1                    2            1 2019-06-17 10:52:00   \n",
       "6               1                    0            0 2019-06-17 10:57:00   \n",
       "7               1                    2            1 2019-06-17 10:57:00   \n",
       "8               1                    0            2 2019-06-17 10:57:00   \n",
       "9               1                    0            0 2019-06-17 10:57:00   \n",
       "\n",
       "                 time  \n",
       "0 2019-06-17 10:10:20  \n",
       "1 2019-06-17 10:10:21  \n",
       "2 2019-06-17 10:10:21  \n",
       "3 2019-06-17 10:52:12  \n",
       "4 2019-06-17 10:52:13  \n",
       "5 2019-06-17 10:52:16  \n",
       "6 2019-06-17 10:56:37  \n",
       "7 2019-06-17 10:56:38  \n",
       "8 2019-06-17 10:56:39  \n",
       "9 2019-06-17 10:57:19  "
      ]
     },
     "execution_count": 265,
     "metadata": {},
     "output_type": "execute_result"
    }
   ],
   "source": [
    "origin_personal_events[:10]"
   ]
  },
  {
   "cell_type": "code",
   "execution_count": 266,
   "metadata": {},
   "outputs": [],
   "source": [
    "personal_events_v2 = origin_personal_events.sort_values(by=['user_id', 'creative_id', 'interactive_id', 'rounded_time', '_event_type']).copy().reset_index(drop=True)"
   ]
  },
  {
   "cell_type": "code",
   "execution_count": 268,
   "metadata": {},
   "outputs": [],
   "source": [
    "personal_events_v2 = shift_start(personal_events_v2)"
   ]
  },
  {
   "cell_type": "code",
   "execution_count": 272,
   "metadata": {},
   "outputs": [],
   "source": [
    "bad_shift = personal_events_v2[\n",
    "    (personal_events_v2.creative_id != personal_events_v2.start_creative_id) |\\\n",
    "    (personal_events_v2.interactive_id != personal_events_v2.start_interactive_id) |\\\n",
    "    (personal_events_v2.user_id != personal_events_v2.start_user_id)\n",
    "].shape[0]"
   ]
  },
  {
   "cell_type": "code",
   "execution_count": 273,
   "metadata": {},
   "outputs": [
    {
     "data": {
      "text/plain": [
       "0.010919246525351218"
      ]
     },
     "execution_count": 273,
     "metadata": {},
     "output_type": "execute_result"
    }
   ],
   "source": [
    "bad_shift / personal_events_v2.shape[0]"
   ]
  },
  {
   "cell_type": "markdown",
   "metadata": {},
   "source": [
    "# Колличество криво сдвинутых строк уменьшилось до 1%, думаю их стоит оставить и двигаться дальше"
   ]
  },
  {
   "cell_type": "code",
   "execution_count": 276,
   "metadata": {},
   "outputs": [],
   "source": [
    "bad_ids = personal_events_v2[\n",
    "    (personal_events_v2.creative_id != personal_events_v2.start_creative_id) |\\\n",
    "    (personal_events_v2.interactive_id != personal_events_v2.start_interactive_id) |\\\n",
    "    (personal_events_v2.user_id != personal_events_v2.start_user_id)\n",
    "].index"
   ]
  },
  {
   "cell_type": "code",
   "execution_count": 279,
   "metadata": {},
   "outputs": [],
   "source": [
    "# убираем кривые строки\n",
    "personal_events_v2 = personal_events_v2[~personal_events_v2.index.isin(bad_ids)].copy()"
   ]
  },
  {
   "cell_type": "code",
   "execution_count": 280,
   "metadata": {},
   "outputs": [
    {
     "data": {
      "text/plain": [
       "0"
      ]
     },
     "execution_count": 280,
     "metadata": {},
     "output_type": "execute_result"
    }
   ],
   "source": [
    "personal_events_v2[\n",
    "    (personal_events_v2.creative_id != personal_events_v2.start_creative_id) |\\\n",
    "    (personal_events_v2.interactive_id != personal_events_v2.start_interactive_id) |\\\n",
    "    (personal_events_v2.user_id != personal_events_v2.start_user_id)\n",
    "].shape[0]"
   ]
  },
  {
   "cell_type": "markdown",
   "metadata": {},
   "source": [
    "# после проверки видим что теперь все ок"
   ]
  },
  {
   "cell_type": "markdown",
   "metadata": {},
   "source": [
    "# Хотя в планах использовать разницу по времени между событиями... так что возможно эти строки, где personal_choice раньше чем personal_start все равно пойдут в утиль"
   ]
  },
  {
   "cell_type": "code",
   "execution_count": 282,
   "metadata": {},
   "outputs": [
    {
     "data": {
      "text/html": [
       "<div>\n",
       "<style scoped>\n",
       "    .dataframe tbody tr th:only-of-type {\n",
       "        vertical-align: middle;\n",
       "    }\n",
       "\n",
       "    .dataframe tbody tr th {\n",
       "        vertical-align: top;\n",
       "    }\n",
       "\n",
       "    .dataframe thead th {\n",
       "        text-align: right;\n",
       "    }\n",
       "</style>\n",
       "<table border=\"1\" class=\"dataframe\">\n",
       "  <thead>\n",
       "    <tr style=\"text-align: right;\">\n",
       "      <th></th>\n",
       "      <th>choise_time</th>\n",
       "      <th>event_type</th>\n",
       "      <th>user_id</th>\n",
       "      <th>creative_id</th>\n",
       "      <th>interactive_id</th>\n",
       "      <th>interactive_item_id</th>\n",
       "      <th>_event_type</th>\n",
       "      <th>rounded_time</th>\n",
       "      <th>time</th>\n",
       "      <th>start_time</th>\n",
       "      <th>start_user_id</th>\n",
       "      <th>start_creative_id</th>\n",
       "      <th>start_interactive_id</th>\n",
       "    </tr>\n",
       "  </thead>\n",
       "  <tbody>\n",
       "    <tr>\n",
       "      <th>1</th>\n",
       "      <td>2019-06-17 10:10:21</td>\n",
       "      <td>personal_choice</td>\n",
       "      <td>115</td>\n",
       "      <td>1</td>\n",
       "      <td>1</td>\n",
       "      <td>2</td>\n",
       "      <td>1</td>\n",
       "      <td>2019-06-17 10:10:00</td>\n",
       "      <td>2019-06-17 10:10:21</td>\n",
       "      <td>2019-06-17 10:10:20</td>\n",
       "      <td>115.0</td>\n",
       "      <td>1.0</td>\n",
       "      <td>1.0</td>\n",
       "    </tr>\n",
       "    <tr>\n",
       "      <th>4</th>\n",
       "      <td>2019-06-17 10:52:16</td>\n",
       "      <td>personal_choice</td>\n",
       "      <td>115</td>\n",
       "      <td>1</td>\n",
       "      <td>1</td>\n",
       "      <td>2</td>\n",
       "      <td>1</td>\n",
       "      <td>2019-06-17 10:52:00</td>\n",
       "      <td>2019-06-17 10:52:16</td>\n",
       "      <td>2019-06-17 10:52:12</td>\n",
       "      <td>115.0</td>\n",
       "      <td>1.0</td>\n",
       "      <td>1.0</td>\n",
       "    </tr>\n",
       "  </tbody>\n",
       "</table>\n",
       "</div>"
      ],
      "text/plain": [
       "           choise_time       event_type  user_id  creative_id  interactive_id  \\\n",
       "1  2019-06-17 10:10:21  personal_choice      115            1               1   \n",
       "4  2019-06-17 10:52:16  personal_choice      115            1               1   \n",
       "\n",
       "   interactive_item_id  _event_type        rounded_time                time  \\\n",
       "1                    2            1 2019-06-17 10:10:00 2019-06-17 10:10:21   \n",
       "4                    2            1 2019-06-17 10:52:00 2019-06-17 10:52:16   \n",
       "\n",
       "            start_time  start_user_id  start_creative_id  start_interactive_id  \n",
       "1  2019-06-17 10:10:20          115.0                1.0                   1.0  \n",
       "4  2019-06-17 10:52:12          115.0                1.0                   1.0  "
      ]
     },
     "execution_count": 282,
     "metadata": {},
     "output_type": "execute_result"
    }
   ],
   "source": [
    "personal_events_v2[:2]"
   ]
  },
  {
   "cell_type": "code",
   "execution_count": 284,
   "metadata": {},
   "outputs": [
    {
     "data": {
      "text/plain": [
       "Index(['choise_time', 'event_type', 'user_id', 'creative_id', 'interactive_id',\n",
       "       'interactive_item_id', '_event_type', 'rounded_time', 'time',\n",
       "       'start_time', 'start_user_id', 'start_creative_id',\n",
       "       'start_interactive_id'],\n",
       "      dtype='object')"
      ]
     },
     "execution_count": 284,
     "metadata": {},
     "output_type": "execute_result"
    }
   ],
   "source": [
    "personal_events_v2.columns"
   ]
  },
  {
   "cell_type": "code",
   "execution_count": 286,
   "metadata": {},
   "outputs": [],
   "source": [
    "# избавимся от лишних строк\n",
    "personal_events_v2 = personal_events_v2[['choise_time', 'user_id', 'creative_id', 'interactive_id', 'interactive_item_id', 'start_time']].copy()"
   ]
  },
  {
   "cell_type": "code",
   "execution_count": 287,
   "metadata": {},
   "outputs": [],
   "source": [
    "personal_events_v2.choise_time = pd.to_datetime(personal_events_v2.choise_time)\n",
    "personal_events_v2.start_time = pd.to_datetime(personal_events_v2.start_time)"
   ]
  },
  {
   "cell_type": "code",
   "execution_count": 296,
   "metadata": {},
   "outputs": [],
   "source": [
    "personal_events_v2['time_diff'] = (personal_events_v2.choise_time - personal_events_v2.start_time) / np.timedelta64(1,'s')"
   ]
  },
  {
   "cell_type": "code",
   "execution_count": 299,
   "metadata": {},
   "outputs": [
    {
     "data": {
      "text/plain": [
       "count    9.500903e+06\n",
       "mean     1.424116e+03\n",
       "std      3.551860e+04\n",
       "min     -5.800000e+01\n",
       "25%      3.000000e+00\n",
       "50%      7.000000e+00\n",
       "75%      1.200000e+01\n",
       "max      5.591123e+06\n",
       "Name: time_diff, dtype: float64"
      ]
     },
     "execution_count": 299,
     "metadata": {},
     "output_type": "execute_result"
    }
   ],
   "source": [
    "personal_events_v2.time_diff.describe()"
   ]
  },
  {
   "cell_type": "code",
   "execution_count": 305,
   "metadata": {},
   "outputs": [
    {
     "data": {
      "text/plain": [
       "(28063, 7)"
      ]
     },
     "execution_count": 305,
     "metadata": {},
     "output_type": "execute_result"
    }
   ],
   "source": [
    "personal_events_v2[personal_events_v2.time_diff > 60*60*24].shape"
   ]
  },
  {
   "cell_type": "markdown",
   "metadata": {},
   "source": [
    "# 28063 записей с разницей больше дня. Могли люди оставить вкладку в браузере открытой?"
   ]
  },
  {
   "cell_type": "markdown",
   "metadata": {},
   "source": [
    "# По идее на странице должно трекаться поведение пользователей, так что скорее всего все это можно выяснить и провалидировать"
   ]
  },
  {
   "cell_type": "markdown",
   "metadata": {},
   "source": [
    "# Так что сейчас я выкину из рассмотрения аномалии с 0 < time_diff < 60*1"
   ]
  },
  {
   "cell_type": "code",
   "execution_count": 341,
   "metadata": {},
   "outputs": [],
   "source": [
    "personal_events_v3 = personal_events_v2[personal_events_v2.time_diff.between(0, 60 * 1)].copy()"
   ]
  },
  {
   "cell_type": "code",
   "execution_count": 342,
   "metadata": {},
   "outputs": [
    {
     "data": {
      "text/plain": [
       "((9500903, 7), (8385536, 7))"
      ]
     },
     "execution_count": 342,
     "metadata": {},
     "output_type": "execute_result"
    }
   ],
   "source": [
    "personal_events_v2.shape, personal_events_v3.shape"
   ]
  },
  {
   "cell_type": "code",
   "execution_count": 333,
   "metadata": {},
   "outputs": [
    {
     "data": {
      "text/html": [
       "<div>\n",
       "<style scoped>\n",
       "    .dataframe tbody tr th:only-of-type {\n",
       "        vertical-align: middle;\n",
       "    }\n",
       "\n",
       "    .dataframe tbody tr th {\n",
       "        vertical-align: top;\n",
       "    }\n",
       "\n",
       "    .dataframe thead th {\n",
       "        text-align: right;\n",
       "    }\n",
       "</style>\n",
       "<table border=\"1\" class=\"dataframe\">\n",
       "  <thead>\n",
       "    <tr style=\"text-align: right;\">\n",
       "      <th></th>\n",
       "      <th>choise_time</th>\n",
       "      <th>user_id</th>\n",
       "      <th>creative_id</th>\n",
       "      <th>interactive_id</th>\n",
       "      <th>interactive_item_id</th>\n",
       "      <th>start_time</th>\n",
       "      <th>time_diff</th>\n",
       "    </tr>\n",
       "  </thead>\n",
       "  <tbody>\n",
       "    <tr>\n",
       "      <th>1</th>\n",
       "      <td>2019-06-17 10:10:21</td>\n",
       "      <td>115</td>\n",
       "      <td>1</td>\n",
       "      <td>1</td>\n",
       "      <td>2</td>\n",
       "      <td>2019-06-17 10:10:20</td>\n",
       "      <td>1.0</td>\n",
       "    </tr>\n",
       "    <tr>\n",
       "      <th>4</th>\n",
       "      <td>2019-06-17 10:52:16</td>\n",
       "      <td>115</td>\n",
       "      <td>1</td>\n",
       "      <td>1</td>\n",
       "      <td>2</td>\n",
       "      <td>2019-06-17 10:52:12</td>\n",
       "      <td>4.0</td>\n",
       "    </tr>\n",
       "    <tr>\n",
       "      <th>9</th>\n",
       "      <td>2019-06-17 10:57:21</td>\n",
       "      <td>115</td>\n",
       "      <td>1</td>\n",
       "      <td>1</td>\n",
       "      <td>2</td>\n",
       "      <td>2019-06-17 10:56:38</td>\n",
       "      <td>43.0</td>\n",
       "    </tr>\n",
       "  </tbody>\n",
       "</table>\n",
       "</div>"
      ],
      "text/plain": [
       "          choise_time  user_id  creative_id  interactive_id  \\\n",
       "1 2019-06-17 10:10:21      115            1               1   \n",
       "4 2019-06-17 10:52:16      115            1               1   \n",
       "9 2019-06-17 10:57:21      115            1               1   \n",
       "\n",
       "   interactive_item_id          start_time  time_diff  \n",
       "1                    2 2019-06-17 10:10:20        1.0  \n",
       "4                    2 2019-06-17 10:52:12        4.0  \n",
       "9                    2 2019-06-17 10:56:38       43.0  "
      ]
     },
     "execution_count": 333,
     "metadata": {},
     "output_type": "execute_result"
    }
   ],
   "source": [
    "personal_events_v3[:3]"
   ]
  },
  {
   "cell_type": "code",
   "execution_count": 334,
   "metadata": {},
   "outputs": [
    {
     "data": {
      "text/html": [
       "<div>\n",
       "<style scoped>\n",
       "    .dataframe tbody tr th:only-of-type {\n",
       "        vertical-align: middle;\n",
       "    }\n",
       "\n",
       "    .dataframe tbody tr th {\n",
       "        vertical-align: top;\n",
       "    }\n",
       "\n",
       "    .dataframe thead th {\n",
       "        text-align: right;\n",
       "    }\n",
       "</style>\n",
       "<table border=\"1\" class=\"dataframe\">\n",
       "  <thead>\n",
       "    <tr style=\"text-align: right;\">\n",
       "      <th></th>\n",
       "      <th>user_id</th>\n",
       "      <th>interactive_id</th>\n",
       "      <th>diff_answers_count</th>\n",
       "      <th>answers_count</th>\n",
       "    </tr>\n",
       "  </thead>\n",
       "  <tbody>\n",
       "    <tr>\n",
       "      <th>0</th>\n",
       "      <td>115</td>\n",
       "      <td>1</td>\n",
       "      <td>1</td>\n",
       "      <td>7</td>\n",
       "    </tr>\n",
       "    <tr>\n",
       "      <th>1</th>\n",
       "      <td>12110</td>\n",
       "      <td>7</td>\n",
       "      <td>2</td>\n",
       "      <td>4</td>\n",
       "    </tr>\n",
       "    <tr>\n",
       "      <th>2</th>\n",
       "      <td>12110</td>\n",
       "      <td>8</td>\n",
       "      <td>1</td>\n",
       "      <td>1</td>\n",
       "    </tr>\n",
       "  </tbody>\n",
       "</table>\n",
       "</div>"
      ],
      "text/plain": [
       "   user_id  interactive_id  diff_answers_count  answers_count\n",
       "0      115               1                   1              7\n",
       "1    12110               7                   2              4\n",
       "2    12110               8                   1              1"
      ]
     },
     "execution_count": 334,
     "metadata": {},
     "output_type": "execute_result"
    }
   ],
   "source": [
    "user_answers[:3]"
   ]
  },
  {
   "cell_type": "markdown",
   "metadata": {},
   "source": [
    "# Сейчас я хочу посмотреть на распределение времени ответа тех, кто отвечал больше 2-х раз на один вопрос и давал разные ответы"
   ]
  },
  {
   "cell_type": "code",
   "execution_count": 343,
   "metadata": {},
   "outputs": [
    {
     "data": {
      "text/plain": [
       "(25402,)"
      ]
     },
     "execution_count": 343,
     "metadata": {},
     "output_type": "execute_result"
    }
   ],
   "source": [
    "suspect_guys = user_answers[user_answers.diff_answers_count > 3].user_id.unique()   \n",
    "suspect_guys.shape"
   ]
  },
  {
   "cell_type": "code",
   "execution_count": 376,
   "metadata": {},
   "outputs": [
    {
     "data": {
      "image/png": "[encoded data removed]",
      "text/plain": [
       "<Figure size 1440x720 with 1 Axes>"
      ]
     },
     "metadata": {
      "needs_background": "light"
     },
     "output_type": "display_data"
    }
   ],
   "source": [
    "fig, ax = plt.subplots(1, 1, figsize=(20, 10))\n",
    "ax.hist(personal_events_v3[personal_events_v3.user_id.isin(suspect_guys)].time_diff, alpha=0.5, density=True, label='suspect', bins=60)\n",
    "ax.hist(personal_events_v3[~personal_events_v3.user_id.isin(suspect_guys)].time_diff, alpha=0.5, density=True, label='not-suspect', bins=60)\n",
    "ax.set(xticks=range(0, 61))\n",
    "ax.legend();"
   ]
  },
  {
   "cell_type": "markdown",
   "metadata": {},
   "source": [
    "# Разница в распределении подтверждает интуицию о скорости рандомного ответа"
   ]
  },
  {
   "cell_type": "code",
   "execution_count": 390,
   "metadata": {},
   "outputs": [],
   "source": [
    "user_features = personal_events_v3[['user_id', 'time_diff']].groupby('user_id', as_index=False).mean()"
   ]
  },
  {
   "cell_type": "code",
   "execution_count": 391,
   "metadata": {},
   "outputs": [],
   "source": [
    "user_features['is_suspect'] = user_features.user_id.isin(suspect_guys).astype(int)"
   ]
  },
  {
   "cell_type": "code",
   "execution_count": 392,
   "metadata": {},
   "outputs": [],
   "source": [
    "# for s, e in [(0, 1), (2, 3), (4, 5), (6, 8), (9, 13), (14, 60)]:\n",
    "#     user_features['time_{}_{}'.format(s, e)] = ((user_features.time_diff >= s) & ((user_features.time_diff <= e))).astype(int)"
   ]
  },
  {
   "cell_type": "code",
   "execution_count": 393,
   "metadata": {},
   "outputs": [
    {
     "data": {
      "text/html": [
       "<div>\n",
       "<style scoped>\n",
       "    .dataframe tbody tr th:only-of-type {\n",
       "        vertical-align: middle;\n",
       "    }\n",
       "\n",
       "    .dataframe tbody tr th {\n",
       "        vertical-align: top;\n",
       "    }\n",
       "\n",
       "    .dataframe thead th {\n",
       "        text-align: right;\n",
       "    }\n",
       "</style>\n",
       "<table border=\"1\" class=\"dataframe\">\n",
       "  <thead>\n",
       "    <tr style=\"text-align: right;\">\n",
       "      <th></th>\n",
       "      <th>user_id</th>\n",
       "      <th>time_diff</th>\n",
       "      <th>is_suspect</th>\n",
       "    </tr>\n",
       "  </thead>\n",
       "  <tbody>\n",
       "    <tr>\n",
       "      <th>0</th>\n",
       "      <td>115</td>\n",
       "      <td>10.200000</td>\n",
       "      <td>0</td>\n",
       "    </tr>\n",
       "    <tr>\n",
       "      <th>1</th>\n",
       "      <td>12110</td>\n",
       "      <td>4.490909</td>\n",
       "      <td>1</td>\n",
       "    </tr>\n",
       "  </tbody>\n",
       "</table>\n",
       "</div>"
      ],
      "text/plain": [
       "   user_id  time_diff  is_suspect\n",
       "0      115  10.200000           0\n",
       "1    12110   4.490909           1"
      ]
     },
     "execution_count": 393,
     "metadata": {},
     "output_type": "execute_result"
    }
   ],
   "source": [
    "user_features[:2]"
   ]
  },
  {
   "cell_type": "markdown",
   "metadata": {},
   "source": [
    "# Возможно стоит разбить время на бинарные признаки, 0-1, 2-4, 5-10, >10. Но пока не буду."
   ]
  },
  {
   "cell_type": "markdown",
   "metadata": {},
   "source": [
    "# Добавлю в user_features инфу о колличествах ответов"
   ]
  },
  {
   "cell_type": "code",
   "execution_count": 399,
   "metadata": {},
   "outputs": [],
   "source": [
    "user_features = user_features.merge(\n",
    "    user_answers[['user_id', 'diff_answers_count', 'answers_count']].groupby('user_id', as_index=False).sum()\n",
    ")"
   ]
  },
  {
   "cell_type": "code",
   "execution_count": 405,
   "metadata": {},
   "outputs": [],
   "source": [
    "user_features['part_of_counts'] = user_features.diff_answers_count / user_features.answers_count"
   ]
  },
  {
   "cell_type": "code",
   "execution_count": 413,
   "metadata": {},
   "outputs": [
    {
     "data": {
      "text/html": [
       "<div>\n",
       "<style scoped>\n",
       "    .dataframe tbody tr th:only-of-type {\n",
       "        vertical-align: middle;\n",
       "    }\n",
       "\n",
       "    .dataframe tbody tr th {\n",
       "        vertical-align: top;\n",
       "    }\n",
       "\n",
       "    .dataframe thead th {\n",
       "        text-align: right;\n",
       "    }\n",
       "</style>\n",
       "<table border=\"1\" class=\"dataframe\">\n",
       "  <thead>\n",
       "    <tr style=\"text-align: right;\">\n",
       "      <th></th>\n",
       "      <th>user_id</th>\n",
       "      <th>time_diff</th>\n",
       "      <th>is_suspect</th>\n",
       "      <th>diff_answers_count</th>\n",
       "      <th>answers_count</th>\n",
       "      <th>part_of_counts</th>\n",
       "    </tr>\n",
       "  </thead>\n",
       "  <tbody>\n",
       "    <tr>\n",
       "      <th>0</th>\n",
       "      <td>115</td>\n",
       "      <td>10.200000</td>\n",
       "      <td>0</td>\n",
       "      <td>1</td>\n",
       "      <td>7</td>\n",
       "      <td>0.142857</td>\n",
       "    </tr>\n",
       "    <tr>\n",
       "      <th>1</th>\n",
       "      <td>12110</td>\n",
       "      <td>4.490909</td>\n",
       "      <td>1</td>\n",
       "      <td>60</td>\n",
       "      <td>75</td>\n",
       "      <td>0.800000</td>\n",
       "    </tr>\n",
       "  </tbody>\n",
       "</table>\n",
       "</div>"
      ],
      "text/plain": [
       "   user_id  time_diff  is_suspect  diff_answers_count  answers_count  \\\n",
       "0      115  10.200000           0                   1              7   \n",
       "1    12110   4.490909           1                  60             75   \n",
       "\n",
       "   part_of_counts  \n",
       "0        0.142857  \n",
       "1        0.800000  "
      ]
     },
     "execution_count": 413,
     "metadata": {},
     "output_type": "execute_result"
    }
   ],
   "source": [
    "# напомню:\n",
    "# answers_count - колличество пройденых опросов\n",
    "# diff_answers_count - сколько раз, проходя один и тот же опрос человек отвечал по разному\n",
    "\n",
    "user_features[:2]"
   ]
  },
  {
   "cell_type": "markdown",
   "metadata": {},
   "source": [
    "# Есть интуиция по поводу того, что паттерны рандомных ответов отличаются от не рандомных. Если это так, то нам будет проще находить тех кто ответил рандомно один раз. \n",
    "# Возможно люди жмут на первый кнопку или на самую длинну фразу или еще как-то. Рассмотрим их:"
   ]
  },
  {
   "cell_type": "code",
   "execution_count": 414,
   "metadata": {},
   "outputs": [
    {
     "data": {
      "text/html": [
       "<div>\n",
       "<style scoped>\n",
       "    .dataframe tbody tr th:only-of-type {\n",
       "        vertical-align: middle;\n",
       "    }\n",
       "\n",
       "    .dataframe tbody tr th {\n",
       "        vertical-align: top;\n",
       "    }\n",
       "\n",
       "    .dataframe thead th {\n",
       "        text-align: right;\n",
       "    }\n",
       "</style>\n",
       "<table border=\"1\" class=\"dataframe\">\n",
       "  <thead>\n",
       "    <tr style=\"text-align: right;\">\n",
       "      <th></th>\n",
       "      <th>user_id</th>\n",
       "      <th>interactive_id</th>\n",
       "      <th>diff_answers_count</th>\n",
       "      <th>answers_count</th>\n",
       "    </tr>\n",
       "  </thead>\n",
       "  <tbody>\n",
       "    <tr>\n",
       "      <th>0</th>\n",
       "      <td>115</td>\n",
       "      <td>1</td>\n",
       "      <td>1</td>\n",
       "      <td>7</td>\n",
       "    </tr>\n",
       "  </tbody>\n",
       "</table>\n",
       "</div>"
      ],
      "text/plain": [
       "   user_id  interactive_id  diff_answers_count  answers_count\n",
       "0      115               1                   1              7"
      ]
     },
     "execution_count": 414,
     "metadata": {},
     "output_type": "execute_result"
    }
   ],
   "source": [
    "user_answers[:1]"
   ]
  },
  {
   "cell_type": "code",
   "execution_count": 415,
   "metadata": {},
   "outputs": [
    {
     "data": {
      "text/plain": [
       "164    32687\n",
       "144    20460\n",
       "233    17569\n",
       "7      11304\n",
       "201    11271\n",
       "Name: interactive_id, dtype: int64"
      ]
     },
     "execution_count": 415,
     "metadata": {},
     "output_type": "execute_result"
    }
   ],
   "source": [
    "user_answers[user_answers.diff_answers_count > 2].interactive_id.value_counts()[:5]"
   ]
  },
  {
   "cell_type": "code",
   "execution_count": 416,
   "metadata": {},
   "outputs": [],
   "source": [
    "# Возьмем интерактив 7      11304, вопрос про кинотеатры"
   ]
  },
  {
   "cell_type": "code",
   "execution_count": 417,
   "metadata": {},
   "outputs": [],
   "source": [
    "cinema = personal_events_v3[personal_events_v3.interactive_id == 7]"
   ]
  },
  {
   "cell_type": "code",
   "execution_count": 418,
   "metadata": {},
   "outputs": [
    {
     "data": {
      "text/html": [
       "<div>\n",
       "<style scoped>\n",
       "    .dataframe tbody tr th:only-of-type {\n",
       "        vertical-align: middle;\n",
       "    }\n",
       "\n",
       "    .dataframe tbody tr th {\n",
       "        vertical-align: top;\n",
       "    }\n",
       "\n",
       "    .dataframe thead th {\n",
       "        text-align: right;\n",
       "    }\n",
       "</style>\n",
       "<table border=\"1\" class=\"dataframe\">\n",
       "  <thead>\n",
       "    <tr style=\"text-align: right;\">\n",
       "      <th></th>\n",
       "      <th>choise_time</th>\n",
       "      <th>user_id</th>\n",
       "      <th>creative_id</th>\n",
       "      <th>interactive_id</th>\n",
       "      <th>interactive_item_id</th>\n",
       "      <th>start_time</th>\n",
       "      <th>time_diff</th>\n",
       "    </tr>\n",
       "  </thead>\n",
       "  <tbody>\n",
       "    <tr>\n",
       "      <th>1</th>\n",
       "      <td>2019-06-17 10:10:21</td>\n",
       "      <td>115</td>\n",
       "      <td>1</td>\n",
       "      <td>1</td>\n",
       "      <td>2</td>\n",
       "      <td>2019-06-17 10:10:20</td>\n",
       "      <td>1.0</td>\n",
       "    </tr>\n",
       "  </tbody>\n",
       "</table>\n",
       "</div>"
      ],
      "text/plain": [
       "          choise_time  user_id  creative_id  interactive_id  \\\n",
       "1 2019-06-17 10:10:21      115            1               1   \n",
       "\n",
       "   interactive_item_id          start_time  time_diff  \n",
       "1                    2 2019-06-17 10:10:20        1.0  "
      ]
     },
     "execution_count": 418,
     "metadata": {},
     "output_type": "execute_result"
    }
   ],
   "source": [
    "personal_events_v3[:1]"
   ]
  },
  {
   "cell_type": "code",
   "execution_count": 453,
   "metadata": {},
   "outputs": [
    {
     "data": {
      "image/png": "[encoded data removed]",
      "text/plain": [
       "<Figure size 1440x1080 with 9 Axes>"
      ]
     },
     "metadata": {
      "needs_background": "light"
     },
     "output_type": "display_data"
    }
   ],
   "source": [
    "fig, axs = plt.subplots(3, 3, figsize=(20, 15)) \n",
    "interactive_ids = user_answers[user_answers.diff_answers_count > 2].interactive_id.value_counts().index\n",
    "\n",
    "for i, ax in enumerate(axs.flat):\n",
    "    \n",
    "    interactive_id = interactive_ids[i]\n",
    "    df = personal_events_v3[personal_events_v3.interactive_id == interactive_id]\n",
    "    \n",
    "    nbins = df.interactive_item_id.nunique()\n",
    "    \n",
    "    ax.hist(df[df.user_id.isin(suspect_guys)].interactive_item_id, alpha=0.5, density=True, label='suspect', edgecolor='#E6E6E6', bins=nbins)\n",
    "    ax.hist(df[~df.user_id.isin(suspect_guys)].interactive_item_id, alpha=0.5, density=True, label='not-suspect', edgecolor='#E6E6E6', bins=nbins)\n",
    "\n",
    "    ax.set(xticks=df.interactive_item_id.unique())\n",
    "    ax.set(title='interactive_id: {}'.format(interactive_id))\n",
    "    ax.legend();\n"
   ]
  },
  {
   "cell_type": "markdown",
   "metadata": {},
   "source": [
    "# Попробую использовать для разделения скорость ответа. До 2-х секунд и больше"
   ]
  },
  {
   "cell_type": "code",
   "execution_count": 452,
   "metadata": {},
   "outputs": [
    {
     "data": {
      "image/png": "[encoded data removed]",
      "text/plain": [
       "<Figure size 1440x1080 with 9 Axes>"
      ]
     },
     "metadata": {
      "needs_background": "light"
     },
     "output_type": "display_data"
    }
   ],
   "source": [
    "fig, axs = plt.subplots(3, 3, figsize=(20, 15)) \n",
    "interactive_ids = user_answers[user_answers.diff_answers_count > 2].interactive_id.value_counts().index\n",
    "\n",
    "for i, ax in enumerate(axs.flat):\n",
    "    \n",
    "    interactive_id = interactive_ids[i]\n",
    "    df = personal_events_v3[personal_events_v3.interactive_id == interactive_id]\n",
    "    \n",
    "    nbins = df.interactive_item_id.nunique()\n",
    "    \n",
    "    border = 2\n",
    "    ax.hist(df[df.time_diff <= border].interactive_item_id, alpha=0.5, density=True, label='suspect', bins=nbins)\n",
    "    ax.hist(df[df.time_diff > border].interactive_item_id, alpha=0.5, density=True, label='not-suspect', bins=nbins)\n",
    "\n",
    "    ax.set(xticks=df.interactive_item_id.unique())\n",
    "    ax.set(title='interactive_id: {}'.format(interactive_id))\n",
    "    ax.legend();\n"
   ]
  },
  {
   "cell_type": "markdown",
   "metadata": {},
   "source": [
    "# Совмещу, посмотрю на респределение ответов для тех кто не входит в число подрозрительных и отвечает долго, против тех кто входит и отвечает быстро:"
   ]
  },
  {
   "cell_type": "code",
   "execution_count": 459,
   "metadata": {},
   "outputs": [
    {
     "data": {
      "image/png": "[encoded data removed]",
      "text/plain": [
       "<Figure size 1440x1080 with 9 Axes>"
      ]
     },
     "metadata": {
      "needs_background": "light"
     },
     "output_type": "display_data"
    }
   ],
   "source": [
    "fig, axs = plt.subplots(3, 3, figsize=(20, 15)) \n",
    "interactive_ids = user_answers[user_answers.diff_answers_count > 2].interactive_id.value_counts().index\n",
    "\n",
    "for i, ax in enumerate(axs.flat):\n",
    "    \n",
    "    interactive_id = interactive_ids[i]\n",
    "    df = personal_events_v3[personal_events_v3.interactive_id == interactive_id]\n",
    "    \n",
    "    nbins = df.interactive_item_id.nunique()\n",
    "    \n",
    "    border = 2\n",
    "    ax.hist(df[(df.time_diff <= border) & (df.user_id.isin(suspect_guys))].interactive_item_id, alpha=0.5, density=True, label='suspect', bins=nbins)\n",
    "    ax.hist(df[(df.time_diff > border) & (~df.user_id.isin(suspect_guys))].interactive_item_id, alpha=0.5, density=True, label='not-suspect', bins=nbins)\n",
    "\n",
    "    ax.set(xticks=df.interactive_item_id.unique())\n",
    "    ax.set(title='interactive_id: {}'.format(interactive_id))\n",
    "    ax.legend();\n"
   ]
  },
  {
   "cell_type": "markdown",
   "metadata": {},
   "source": [
    "# Возможно что рандомные ответы наоборот распределены равномернее, в отличии от не рандомных?"
   ]
  },
  {
   "cell_type": "markdown",
   "metadata": {},
   "source": [
    "# Как признак можно выбрать 1 или 2 самых популярных долгих ответа от тех, кто не входит в число подозрительных людей и сравнивать ответ с ними"
   ]
  },
  {
   "cell_type": "code",
   "execution_count": 460,
   "metadata": {},
   "outputs": [],
   "source": [
    "cinema = personal_events_v3[personal_events_v3.interactive_id == 7]"
   ]
  },
  {
   "cell_type": "code",
   "execution_count": 466,
   "metadata": {},
   "outputs": [
    {
     "data": {
      "text/html": [
       "<div>\n",
       "<style scoped>\n",
       "    .dataframe tbody tr th:only-of-type {\n",
       "        vertical-align: middle;\n",
       "    }\n",
       "\n",
       "    .dataframe tbody tr th {\n",
       "        vertical-align: top;\n",
       "    }\n",
       "\n",
       "    .dataframe thead th {\n",
       "        text-align: right;\n",
       "    }\n",
       "</style>\n",
       "<table border=\"1\" class=\"dataframe\">\n",
       "  <thead>\n",
       "    <tr style=\"text-align: right;\">\n",
       "      <th></th>\n",
       "      <th>choise_time</th>\n",
       "      <th>user_id</th>\n",
       "      <th>creative_id</th>\n",
       "      <th>interactive_id</th>\n",
       "      <th>interactive_item_id</th>\n",
       "      <th>start_time</th>\n",
       "      <th>time_diff</th>\n",
       "    </tr>\n",
       "  </thead>\n",
       "  <tbody>\n",
       "    <tr>\n",
       "      <th>70</th>\n",
       "      <td>2019-06-27 09:44:16</td>\n",
       "      <td>12110</td>\n",
       "      <td>16</td>\n",
       "      <td>7</td>\n",
       "      <td>20</td>\n",
       "      <td>2019-06-27 09:44:14</td>\n",
       "      <td>2.0</td>\n",
       "    </tr>\n",
       "    <tr>\n",
       "      <th>76</th>\n",
       "      <td>2019-07-07 09:23:16</td>\n",
       "      <td>12110</td>\n",
       "      <td>16</td>\n",
       "      <td>7</td>\n",
       "      <td>22</td>\n",
       "      <td>2019-07-07 09:23:14</td>\n",
       "      <td>2.0</td>\n",
       "    </tr>\n",
       "  </tbody>\n",
       "</table>\n",
       "</div>"
      ],
      "text/plain": [
       "           choise_time  user_id  creative_id  interactive_id  \\\n",
       "70 2019-06-27 09:44:16    12110           16               7   \n",
       "76 2019-07-07 09:23:16    12110           16               7   \n",
       "\n",
       "    interactive_item_id          start_time  time_diff  \n",
       "70                   20 2019-06-27 09:44:14        2.0  \n",
       "76                   22 2019-07-07 09:23:14        2.0  "
      ]
     },
     "execution_count": 466,
     "metadata": {},
     "output_type": "execute_result"
    }
   ],
   "source": [
    "cinema[:2]"
   ]
  },
  {
   "cell_type": "code",
   "execution_count": 472,
   "metadata": {},
   "outputs": [
    {
     "data": {
      "image/png": "[encoded data removed]",
      "text/plain": [
       "<Figure size 1080x720 with 1 Axes>"
      ]
     },
     "metadata": {
      "needs_background": "light"
     },
     "output_type": "display_data"
    }
   ],
   "source": [
    "fig, ax = plt.subplots(figsize=(15, 10)) \n",
    "sns.boxplot(data=cinema, y='time_diff', x='interactive_item_id', ax=ax);"
   ]
  },
  {
   "cell_type": "code",
   "execution_count": 473,
   "metadata": {},
   "outputs": [
    {
     "data": {
      "text/html": [
       "<div>\n",
       "<style scoped>\n",
       "    .dataframe tbody tr th:only-of-type {\n",
       "        vertical-align: middle;\n",
       "    }\n",
       "\n",
       "    .dataframe tbody tr th {\n",
       "        vertical-align: top;\n",
       "    }\n",
       "\n",
       "    .dataframe thead th {\n",
       "        text-align: right;\n",
       "    }\n",
       "</style>\n",
       "<table border=\"1\" class=\"dataframe\">\n",
       "  <thead>\n",
       "    <tr style=\"text-align: right;\">\n",
       "      <th></th>\n",
       "      <th>choise_time</th>\n",
       "      <th>user_id</th>\n",
       "      <th>creative_id</th>\n",
       "      <th>interactive_id</th>\n",
       "      <th>interactive_item_id</th>\n",
       "      <th>start_time</th>\n",
       "      <th>time_diff</th>\n",
       "    </tr>\n",
       "  </thead>\n",
       "  <tbody>\n",
       "    <tr>\n",
       "      <th>1</th>\n",
       "      <td>2019-06-17 10:10:21</td>\n",
       "      <td>115</td>\n",
       "      <td>1</td>\n",
       "      <td>1</td>\n",
       "      <td>2</td>\n",
       "      <td>2019-06-17 10:10:20</td>\n",
       "      <td>1.0</td>\n",
       "    </tr>\n",
       "    <tr>\n",
       "      <th>4</th>\n",
       "      <td>2019-06-17 10:52:16</td>\n",
       "      <td>115</td>\n",
       "      <td>1</td>\n",
       "      <td>1</td>\n",
       "      <td>2</td>\n",
       "      <td>2019-06-17 10:52:12</td>\n",
       "      <td>4.0</td>\n",
       "    </tr>\n",
       "  </tbody>\n",
       "</table>\n",
       "</div>"
      ],
      "text/plain": [
       "          choise_time  user_id  creative_id  interactive_id  \\\n",
       "1 2019-06-17 10:10:21      115            1               1   \n",
       "4 2019-06-17 10:52:16      115            1               1   \n",
       "\n",
       "   interactive_item_id          start_time  time_diff  \n",
       "1                    2 2019-06-17 10:10:20        1.0  \n",
       "4                    2 2019-06-17 10:52:12        4.0  "
      ]
     },
     "execution_count": 473,
     "metadata": {},
     "output_type": "execute_result"
    }
   ],
   "source": [
    "personal_events_v3[:2]"
   ]
  },
  {
   "cell_type": "code",
   "execution_count": 493,
   "metadata": {},
   "outputs": [
    {
     "data": {
      "text/html": [
       "<div>\n",
       "<style scoped>\n",
       "    .dataframe tbody tr th:only-of-type {\n",
       "        vertical-align: middle;\n",
       "    }\n",
       "\n",
       "    .dataframe tbody tr th {\n",
       "        vertical-align: top;\n",
       "    }\n",
       "\n",
       "    .dataframe thead th {\n",
       "        text-align: right;\n",
       "    }\n",
       "</style>\n",
       "<table border=\"1\" class=\"dataframe\">\n",
       "  <thead>\n",
       "    <tr style=\"text-align: right;\">\n",
       "      <th></th>\n",
       "      <th>interactive_id</th>\n",
       "      <th>interactive_item_id</th>\n",
       "      <th>choise_time</th>\n",
       "    </tr>\n",
       "  </thead>\n",
       "  <tbody>\n",
       "    <tr>\n",
       "      <th>0</th>\n",
       "      <td>1</td>\n",
       "      <td>2</td>\n",
       "      <td>2</td>\n",
       "    </tr>\n",
       "    <tr>\n",
       "      <th>1</th>\n",
       "      <td>7</td>\n",
       "      <td>20</td>\n",
       "      <td>19997</td>\n",
       "    </tr>\n",
       "    <tr>\n",
       "      <th>2</th>\n",
       "      <td>7</td>\n",
       "      <td>21</td>\n",
       "      <td>44785</td>\n",
       "    </tr>\n",
       "    <tr>\n",
       "      <th>3</th>\n",
       "      <td>7</td>\n",
       "      <td>22</td>\n",
       "      <td>41715</td>\n",
       "    </tr>\n",
       "    <tr>\n",
       "      <th>4</th>\n",
       "      <td>7</td>\n",
       "      <td>23</td>\n",
       "      <td>126207</td>\n",
       "    </tr>\n",
       "    <tr>\n",
       "      <th>5</th>\n",
       "      <td>8</td>\n",
       "      <td>24</td>\n",
       "      <td>719</td>\n",
       "    </tr>\n",
       "    <tr>\n",
       "      <th>6</th>\n",
       "      <td>8</td>\n",
       "      <td>25</td>\n",
       "      <td>919</td>\n",
       "    </tr>\n",
       "    <tr>\n",
       "      <th>7</th>\n",
       "      <td>8</td>\n",
       "      <td>26</td>\n",
       "      <td>608</td>\n",
       "    </tr>\n",
       "    <tr>\n",
       "      <th>8</th>\n",
       "      <td>8</td>\n",
       "      <td>27</td>\n",
       "      <td>3063</td>\n",
       "    </tr>\n",
       "    <tr>\n",
       "      <th>9</th>\n",
       "      <td>28</td>\n",
       "      <td>96</td>\n",
       "      <td>170845</td>\n",
       "    </tr>\n",
       "  </tbody>\n",
       "</table>\n",
       "</div>"
      ],
      "text/plain": [
       "   interactive_id  interactive_item_id  choise_time\n",
       "0               1                    2            2\n",
       "1               7                   20        19997\n",
       "2               7                   21        44785\n",
       "3               7                   22        41715\n",
       "4               7                   23       126207\n",
       "5               8                   24          719\n",
       "6               8                   25          919\n",
       "7               8                   26          608\n",
       "8               8                   27         3063\n",
       "9              28                   96       170845"
      ]
     },
     "execution_count": 493,
     "metadata": {},
     "output_type": "execute_result"
    }
   ],
   "source": [
    "# в качестве медленного ответа возьму 4 секунды\n",
    "sec = 4\n",
    "most_popular_slowly_answer = personal_events_v3[personal_events_v3.time_diff >= sec][['interactive_id', 'interactive_item_id', 'choise_time']].\\\n",
    "    groupby(['interactive_id', 'interactive_item_id'], as_index=False).\\\n",
    "    count().sort_values(by=['interactive_id', 'interactive_item_id'])\n",
    "most_popular_slowly_answer[:10]"
   ]
  },
  {
   "cell_type": "code",
   "execution_count": 494,
   "metadata": {},
   "outputs": [],
   "source": [
    "answers_stat = {}\n",
    "for ind, row in most_popular_slowly_answer.iterrows():\n",
    "    if row.interactive_id not in answers_stat:\n",
    "        answers_stat[row.interactive_id] = {'interactive_id': row.interactive_id, 'interactive_item_id': row.interactive_item_id, 'choise_time': row.choise_time}\n",
    "    if answers_stat[row.interactive_id]['choise_time'] < row.choise_time:\n",
    "        answers_stat[row.interactive_id] = {'interactive_id': row.interactive_id, 'interactive_item_id': row.interactive_item_id, 'choise_time': row.choise_time}"
   ]
  },
  {
   "cell_type": "code",
   "execution_count": 500,
   "metadata": {},
   "outputs": [],
   "source": [
    "personal_events_v3['is_popular_answer'] = personal_events_v3.apply(\n",
    "    lambda row: answers_stat[row.interactive_id]['interactive_item_id'] == row.interactive_item_id, axis=1\n",
    ").astype(int)"
   ]
  },
  {
   "cell_type": "code",
   "execution_count": 503,
   "metadata": {},
   "outputs": [],
   "source": [
    "answers = personal_events_v3.groupby('user_id', as_index=False).agg({'is_popular_answer': np.sum, 'choise_time': 'count'})"
   ]
  },
  {
   "cell_type": "code",
   "execution_count": 505,
   "metadata": {},
   "outputs": [],
   "source": [
    "answers['popular_part'] = answers.is_popular_answer / answers.choise_time"
   ]
  },
  {
   "cell_type": "markdown",
   "metadata": {},
   "source": [
    "# Важно: скорее всего паттерны ответов проявят себя гораздо лучше, если брать во внимание контент который они сопровождают. Но делать это в рамках тетсового задания  уже не буду"
   ]
  },
  {
   "cell_type": "code",
   "execution_count": 508,
   "metadata": {},
   "outputs": [],
   "source": [
    "user_features = user_features.merge(answers)"
   ]
  },
  {
   "cell_type": "code",
   "execution_count": 515,
   "metadata": {},
   "outputs": [
    {
     "data": {
      "text/html": [
       "<div>\n",
       "<style scoped>\n",
       "    .dataframe tbody tr th:only-of-type {\n",
       "        vertical-align: middle;\n",
       "    }\n",
       "\n",
       "    .dataframe tbody tr th {\n",
       "        vertical-align: top;\n",
       "    }\n",
       "\n",
       "    .dataframe thead th {\n",
       "        text-align: right;\n",
       "    }\n",
       "</style>\n",
       "<table border=\"1\" class=\"dataframe\">\n",
       "  <thead>\n",
       "    <tr style=\"text-align: right;\">\n",
       "      <th></th>\n",
       "      <th>user_id</th>\n",
       "      <th>time_diff</th>\n",
       "      <th>is_suspect</th>\n",
       "      <th>diff_answers_count</th>\n",
       "      <th>answers_count</th>\n",
       "      <th>part_of_counts</th>\n",
       "      <th>is_popular_answer</th>\n",
       "      <th>choise_time</th>\n",
       "      <th>popular_part</th>\n",
       "    </tr>\n",
       "  </thead>\n",
       "  <tbody>\n",
       "    <tr>\n",
       "      <th>0</th>\n",
       "      <td>115</td>\n",
       "      <td>10.200000</td>\n",
       "      <td>0</td>\n",
       "      <td>1</td>\n",
       "      <td>7</td>\n",
       "      <td>0.142857</td>\n",
       "      <td>5</td>\n",
       "      <td>5</td>\n",
       "      <td>1.000000</td>\n",
       "    </tr>\n",
       "    <tr>\n",
       "      <th>1</th>\n",
       "      <td>12110</td>\n",
       "      <td>4.490909</td>\n",
       "      <td>1</td>\n",
       "      <td>60</td>\n",
       "      <td>75</td>\n",
       "      <td>0.800000</td>\n",
       "      <td>10</td>\n",
       "      <td>55</td>\n",
       "      <td>0.181818</td>\n",
       "    </tr>\n",
       "  </tbody>\n",
       "</table>\n",
       "</div>"
      ],
      "text/plain": [
       "   user_id  time_diff  is_suspect  diff_answers_count  answers_count  \\\n",
       "0      115  10.200000           0                   1              7   \n",
       "1    12110   4.490909           1                  60             75   \n",
       "\n",
       "   part_of_counts  is_popular_answer  choise_time  popular_part  \n",
       "0        0.142857                  5            5      1.000000  \n",
       "1        0.800000                 10           55      0.181818  "
      ]
     },
     "execution_count": 515,
     "metadata": {},
     "output_type": "execute_result"
    }
   ],
   "source": [
    "user_features[:2]"
   ]
  },
  {
   "cell_type": "code",
   "execution_count": 540,
   "metadata": {},
   "outputs": [],
   "source": [
    "user_features.to_csv('LiST/user_features.csv')"
   ]
  },
  {
   "cell_type": "code",
   "execution_count": 656,
   "metadata": {},
   "outputs": [],
   "source": [
    "_user_features = user_features.sample(frac=0.01).copy()"
   ]
  },
  {
   "cell_type": "code",
   "execution_count": 650,
   "metadata": {},
   "outputs": [],
   "source": [
    "from sklearn.manifold import TSNE\n",
    "from sklearn.decomposition import PCA \n",
    "from sklearn.cluster import SpectralClustering \n",
    "\n",
    "np.random.seed(42)\n",
    "\n",
    "def clustering(df, drop_columns):\n",
    "    X = df.drop(columns=drop_columns).values\n",
    "    for i in range(X.shape[1]):\n",
    "        X[:, i] = (X[:, i] - X[:, i].mean()) / (X[:, i].max() - X[:, i].min())\n",
    "        \n",
    "    # попробуем кластеризовать без колонки is_suspect\n",
    "    model = SpectralClustering(n_clusters=2, affinity='nearest_neighbors', assign_labels='kmeans', n_jobs=24)\n",
    "    labels = model.fit_predict(X)\n",
    "    \n",
    "    return X, labels\n",
    "\n",
    "def show(X, labels):\n",
    "    pca = PCA(n_components=2).fit_transform(X)\n",
    "    plt.scatter(pca[:, 0], pca[:, 1], c=labels, edgecolor='black', s=20, cmap='viridis');\n",
    "    plt.title('PCA')\n",
    "    plt.show()\n",
    "    \n",
    "    tsne = TSNE(n_components=2).fit_transform(X)\n",
    "    plt.title('TSNE')\n",
    "    plt.scatter(tsne[:, 0], tsne[:, 1], c=labels, edgecolor='black', s=20, cmap='viridis');"
   ]
  },
  {
   "cell_type": "code",
   "execution_count": 664,
   "metadata": {},
   "outputs": [
    {
     "name": "stderr",
     "output_type": "stream",
     "text": [
      "/bin/conda/lib/python3.6/site-packages/sklearn/manifold/spectral_embedding_.py:237: UserWarning: Graph is not fully connected, spectral embedding may not work as expected.\n",
      "  warnings.warn(\"Graph is not fully connected, spectral embedding\"\n"
     ]
    },
    {
     "data": {
      "image/png": "[encoded data removed]",
      "text/plain": [
       "<Figure size 432x288 with 1 Axes>"
      ]
     },
     "metadata": {
      "needs_background": "light"
     },
     "output_type": "display_data"
    },
    {
     "data": {
      "image/png": "[encoded data removed]",
      "text/plain": [
       "<Figure size 432x288 with 1 Axes>"
      ]
     },
     "metadata": {
      "needs_background": "light"
     },
     "output_type": "display_data"
    }
   ],
   "source": [
    "_user_features = user_features.sample(frac=0.01).copy()\n",
    "X, labels = clustering(_user_features, drop_columns=['user_id', 'is_suspect'])\n",
    "\n",
    "show(X, labels)"
   ]
  },
  {
   "cell_type": "code",
   "execution_count": 668,
   "metadata": {},
   "outputs": [],
   "source": [
    "_user_features['label'] = labels"
   ]
  },
  {
   "cell_type": "code",
   "execution_count": 665,
   "metadata": {},
   "outputs": [
    {
     "data": {
      "text/plain": [
       "0    2759\n",
       "1     253\n",
       "Name: is_suspect, dtype: int64"
      ]
     },
     "execution_count": 665,
     "metadata": {},
     "output_type": "execute_result"
    }
   ],
   "source": [
    "_user_features.is_suspect.value_counts()"
   ]
  },
  {
   "cell_type": "code",
   "execution_count": 666,
   "metadata": {},
   "outputs": [
    {
     "data": {
      "text/plain": [
       "0    2865\n",
       "1     147\n",
       "dtype: int64"
      ]
     },
     "execution_count": 666,
     "metadata": {},
     "output_type": "execute_result"
    }
   ],
   "source": [
    "pd.value_counts(labels)"
   ]
  },
  {
   "cell_type": "markdown",
   "metadata": {},
   "source": [
    "# Какие фичи использовались?"
   ]
  },
  {
   "cell_type": "code",
   "execution_count": 670,
   "metadata": {},
   "outputs": [
    {
     "data": {
      "text/html": [
       "<div>\n",
       "<style scoped>\n",
       "    .dataframe tbody tr th:only-of-type {\n",
       "        vertical-align: middle;\n",
       "    }\n",
       "\n",
       "    .dataframe tbody tr th {\n",
       "        vertical-align: top;\n",
       "    }\n",
       "\n",
       "    .dataframe thead th {\n",
       "        text-align: right;\n",
       "    }\n",
       "</style>\n",
       "<table border=\"1\" class=\"dataframe\">\n",
       "  <thead>\n",
       "    <tr style=\"text-align: right;\">\n",
       "      <th></th>\n",
       "      <th>user_id</th>\n",
       "      <th>time_diff</th>\n",
       "      <th>is_suspect</th>\n",
       "      <th>diff_answers_count</th>\n",
       "      <th>answers_count</th>\n",
       "      <th>part_of_counts</th>\n",
       "      <th>is_popular_answer</th>\n",
       "      <th>choise_time</th>\n",
       "      <th>popular_part</th>\n",
       "      <th>label</th>\n",
       "    </tr>\n",
       "  </thead>\n",
       "  <tbody>\n",
       "    <tr>\n",
       "      <th>278811</th>\n",
       "      <td>6998435</td>\n",
       "      <td>15.714286</td>\n",
       "      <td>0</td>\n",
       "      <td>20</td>\n",
       "      <td>22</td>\n",
       "      <td>0.909091</td>\n",
       "      <td>7</td>\n",
       "      <td>21</td>\n",
       "      <td>0.333333</td>\n",
       "      <td>0</td>\n",
       "    </tr>\n",
       "    <tr>\n",
       "      <th>224724</th>\n",
       "      <td>6818325</td>\n",
       "      <td>8.333333</td>\n",
       "      <td>0</td>\n",
       "      <td>3</td>\n",
       "      <td>3</td>\n",
       "      <td>1.000000</td>\n",
       "      <td>2</td>\n",
       "      <td>3</td>\n",
       "      <td>0.666667</td>\n",
       "      <td>0</td>\n",
       "    </tr>\n",
       "    <tr>\n",
       "      <th>73747</th>\n",
       "      <td>6571182</td>\n",
       "      <td>6.086957</td>\n",
       "      <td>0</td>\n",
       "      <td>46</td>\n",
       "      <td>56</td>\n",
       "      <td>0.821429</td>\n",
       "      <td>23</td>\n",
       "      <td>46</td>\n",
       "      <td>0.500000</td>\n",
       "      <td>0</td>\n",
       "    </tr>\n",
       "  </tbody>\n",
       "</table>\n",
       "</div>"
      ],
      "text/plain": [
       "        user_id  time_diff  is_suspect  diff_answers_count  answers_count  \\\n",
       "278811  6998435  15.714286           0                  20             22   \n",
       "224724  6818325   8.333333           0                   3              3   \n",
       "73747   6571182   6.086957           0                  46             56   \n",
       "\n",
       "        part_of_counts  is_popular_answer  choise_time  popular_part  label  \n",
       "278811        0.909091                  7           21      0.333333      0  \n",
       "224724        1.000000                  2            3      0.666667      0  \n",
       "73747         0.821429                 23           46      0.500000      0  "
      ]
     },
     "execution_count": 670,
     "metadata": {},
     "output_type": "execute_result"
    }
   ],
   "source": [
    "_user_features[:3]"
   ]
  },
  {
   "cell_type": "markdown",
   "metadata": {},
   "source": [
    "# Попробую убрать ту часть пользователей, где есть инфа о том что человек отвечал по разному на один и тот же вопрос"
   ]
  },
  {
   "cell_type": "code",
   "execution_count": 630,
   "metadata": {},
   "outputs": [
    {
     "data": {
      "text/plain": [
       "Index(['user_id', 'time_diff', 'is_suspect', 'diff_answers_count',\n",
       "       'answers_count', 'part_of_counts', 'is_popular_answer', 'choise_time',\n",
       "       'popular_part', 'label'],\n",
       "      dtype='object')"
      ]
     },
     "execution_count": 630,
     "metadata": {},
     "output_type": "execute_result"
    }
   ],
   "source": [
    "_user_features.columns"
   ]
  },
  {
   "cell_type": "code",
   "execution_count": 640,
   "metadata": {},
   "outputs": [],
   "source": [
    "# добавим больше данных"
   ]
  },
  {
   "cell_type": "code",
   "execution_count": 678,
   "metadata": {},
   "outputs": [
    {
     "data": {
      "image/png": "[encoded data removed]",
      "text/plain": [
       "<Figure size 432x288 with 1 Axes>"
      ]
     },
     "metadata": {
      "needs_background": "light"
     },
     "output_type": "display_data"
    },
    {
     "data": {
      "image/png": "[encoded data removed]",
      "text/plain": [
       "<Figure size 432x288 with 1 Axes>"
      ]
     },
     "metadata": {
      "needs_background": "light"
     },
     "output_type": "display_data"
    }
   ],
   "source": [
    "_user_features = user_features.sample(frac=0.01).copy()\n",
    "X, labels = clustering(\n",
    "    _user_features, \n",
    "    drop_columns=['user_id', 'is_suspect',]\n",
    ")\n",
    "_user_features['label'] = labels\n",
    "show(X, labels)"
   ]
  },
  {
   "cell_type": "code",
   "execution_count": 672,
   "metadata": {},
   "outputs": [
    {
     "data": {
      "image/png": "[encoded data removed]",
      "text/plain": [
       "<Figure size 1440x720 with 1 Axes>"
      ]
     },
     "metadata": {
      "needs_background": "light"
     },
     "output_type": "display_data"
    }
   ],
   "source": [
    "fig, ax = plt.subplots(1, 1, figsize=(20, 10))\n",
    "ax.hist(_user_features[_user_features.label == 0].time_diff, alpha=0.5, density=True, label='label == 0', bins=60)\n",
    "ax.hist(_user_features[_user_features.label == 1].time_diff, alpha=0.5, density=True, label='label == 1', bins=60)\n",
    "ax.set(xticks=range(0, 61))\n",
    "ax.legend();"
   ]
  },
  {
   "cell_type": "markdown",
   "metadata": {},
   "source": [
    "# Итоги:\n",
    "1. Обязательно надо выбирать фичи с учетом креативов (сейчас учитывалсь только interactive_id)\n",
    "2. Скорее всего хорошо зайдет трекинг со страницы (движения мыши и тд)\n",
    "2. Фильтрацию возможного рандома начал бы с времени ответа и его \"типичности\" с учетом креатива, который человек смотрит\n",
    "2. Я бы дополнительно рассмотрел полученные кластеры на рисунках выше.\n",
    "3. Попробовал кластеризацию с большим числом кластеров / другие алгоритмы кластеризации\n"
   ]
  }
 ],
 "metadata": {
  "kernelspec": {
   "display_name": "Python 3",
   "language": "python",
   "name": "python3"
  },
  "language_info": {
   "codemirror_mode": {
    "name": "ipython",
    "version": 3
   },
   "file_extension": ".py",
   "mimetype": "text/x-python",
   "name": "python",
   "nbconvert_exporter": "python",
   "pygments_lexer": "ipython3",
   "version": "3.6.6"
  }
 },
 "nbformat": 4,
 "nbformat_minor": 2
}
